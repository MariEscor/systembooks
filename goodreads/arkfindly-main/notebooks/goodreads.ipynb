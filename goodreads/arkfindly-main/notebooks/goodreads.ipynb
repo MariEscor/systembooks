{
 "cells": [
  {
   "cell_type": "code",
   "execution_count": 279,
   "metadata": {},
   "outputs": [
    {
     "name": "stdout",
     "output_type": "stream",
     "text": [
      "Requirement already satisfied: selenium in c:\\python311\\lib\\site-packages (4.21.0)\n",
      "Requirement already satisfied: urllib3<3,>=1.26 in c:\\python311\\lib\\site-packages (from urllib3[socks]<3,>=1.26->selenium) (2.2.1)\n",
      "Requirement already satisfied: trio~=0.17 in c:\\python311\\lib\\site-packages (from selenium) (0.25.1)\n",
      "Requirement already satisfied: trio-websocket~=0.9 in c:\\python311\\lib\\site-packages (from selenium) (0.11.1)\n",
      "Requirement already satisfied: certifi>=2021.10.8 in c:\\python311\\lib\\site-packages (from selenium) (2024.2.2)\n",
      "Requirement already satisfied: typing_extensions>=4.9.0 in c:\\python311\\lib\\site-packages (from selenium) (4.11.0)\n",
      "Requirement already satisfied: attrs>=23.2.0 in c:\\python311\\lib\\site-packages (from trio~=0.17->selenium) (23.2.0)\n",
      "Requirement already satisfied: sortedcontainers in c:\\python311\\lib\\site-packages (from trio~=0.17->selenium) (2.4.0)\n",
      "Requirement already satisfied: idna in c:\\python311\\lib\\site-packages (from trio~=0.17->selenium) (3.7)\n",
      "Requirement already satisfied: outcome in c:\\python311\\lib\\site-packages (from trio~=0.17->selenium) (1.3.0.post0)\n",
      "Requirement already satisfied: sniffio>=1.3.0 in c:\\python311\\lib\\site-packages (from trio~=0.17->selenium) (1.3.1)\n",
      "Requirement already satisfied: cffi>=1.14 in c:\\python311\\lib\\site-packages (from trio~=0.17->selenium) (1.16.0)\n",
      "Requirement already satisfied: wsproto>=0.14 in c:\\python311\\lib\\site-packages (from trio-websocket~=0.9->selenium) (1.2.0)\n",
      "Requirement already satisfied: pysocks!=1.5.7,<2.0,>=1.5.6 in c:\\python311\\lib\\site-packages (from urllib3[socks]<3,>=1.26->selenium) (1.7.1)\n",
      "Requirement already satisfied: pycparser in c:\\python311\\lib\\site-packages (from cffi>=1.14->trio~=0.17->selenium) (2.22)\n",
      "Requirement already satisfied: h11<1,>=0.9.0 in c:\\python311\\lib\\site-packages (from wsproto>=0.14->trio-websocket~=0.9->selenium) (0.14.0)\n",
      "Note: you may need to restart the kernel to use updated packages.\n"
     ]
    },
    {
     "name": "stderr",
     "output_type": "stream",
     "text": [
      "\n",
      "[notice] A new release of pip is available: 23.3.1 -> 24.0\n",
      "[notice] To update, run: python.exe -m pip install --upgrade pip\n"
     ]
    }
   ],
   "source": [
    "pip install selenium"
   ]
  },
  {
   "cell_type": "code",
   "execution_count": 280,
   "metadata": {},
   "outputs": [
    {
     "name": "stdout",
     "output_type": "stream",
     "text": [
      "Requirement already satisfied: bs4 in c:\\python311\\lib\\site-packages (0.0.2)\n",
      "Requirement already satisfied: beautifulsoup4 in c:\\python311\\lib\\site-packages (from bs4) (4.12.3)\n",
      "Requirement already satisfied: soupsieve>1.2 in c:\\python311\\lib\\site-packages (from beautifulsoup4->bs4) (2.5)\n",
      "Note: you may need to restart the kernel to use updated packages.\n"
     ]
    },
    {
     "name": "stderr",
     "output_type": "stream",
     "text": [
      "\n",
      "[notice] A new release of pip is available: 23.3.1 -> 24.0\n",
      "[notice] To update, run: python.exe -m pip install --upgrade pip\n"
     ]
    }
   ],
   "source": [
    "pip install bs4"
   ]
  },
  {
   "cell_type": "code",
   "execution_count": 281,
   "metadata": {},
   "outputs": [
    {
     "name": "stdout",
     "output_type": "stream",
     "text": [
      "Requirement already satisfied: requests in c:\\python311\\lib\\site-packages (2.32.2)\n",
      "Requirement already satisfied: charset-normalizer<4,>=2 in c:\\python311\\lib\\site-packages (from requests) (3.3.2)\n",
      "Requirement already satisfied: idna<4,>=2.5 in c:\\python311\\lib\\site-packages (from requests) (3.7)\n",
      "Requirement already satisfied: urllib3<3,>=1.21.1 in c:\\python311\\lib\\site-packages (from requests) (2.2.1)\n",
      "Requirement already satisfied: certifi>=2017.4.17 in c:\\python311\\lib\\site-packages (from requests) (2024.2.2)\n",
      "Note: you may need to restart the kernel to use updated packages.\n"
     ]
    },
    {
     "name": "stderr",
     "output_type": "stream",
     "text": [
      "\n",
      "[notice] A new release of pip is available: 23.3.1 -> 24.0\n",
      "[notice] To update, run: python.exe -m pip install --upgrade pip\n"
     ]
    }
   ],
   "source": [
    "pip install requests"
   ]
  },
  {
   "cell_type": "code",
   "execution_count": 282,
   "metadata": {},
   "outputs": [
    {
     "name": "stdout",
     "output_type": "stream",
     "text": [
      "Requirement already satisfied: pandas in c:\\python311\\lib\\site-packages (2.2.2)\n",
      "Requirement already satisfied: numpy>=1.23.2 in c:\\python311\\lib\\site-packages (from pandas) (1.26.1)\n",
      "Requirement already satisfied: python-dateutil>=2.8.2 in c:\\users\\pc\\appdata\\roaming\\python\\python311\\site-packages (from pandas) (2.9.0.post0)\n",
      "Requirement already satisfied: pytz>=2020.1 in c:\\python311\\lib\\site-packages (from pandas) (2024.1)\n",
      "Requirement already satisfied: tzdata>=2022.7 in c:\\python311\\lib\\site-packages (from pandas) (2024.1)\n",
      "Requirement already satisfied: six>=1.5 in c:\\python311\\lib\\site-packages (from python-dateutil>=2.8.2->pandas) (1.16.0)\n",
      "Note: you may need to restart the kernel to use updated packages.\n"
     ]
    },
    {
     "name": "stderr",
     "output_type": "stream",
     "text": [
      "\n",
      "[notice] A new release of pip is available: 23.3.1 -> 24.0\n",
      "[notice] To update, run: python.exe -m pip install --upgrade pip\n"
     ]
    }
   ],
   "source": [
    "pip install pandas"
   ]
  },
  {
   "cell_type": "code",
   "execution_count": 283,
   "metadata": {},
   "outputs": [
    {
     "name": "stdout",
     "output_type": "stream",
     "text": [
      "Requirement already satisfied: webdriver_manager in c:\\python311\\lib\\site-packages (4.0.1)\n",
      "Requirement already satisfied: requests in c:\\python311\\lib\\site-packages (from webdriver_manager) (2.32.2)\n",
      "Requirement already satisfied: python-dotenv in c:\\python311\\lib\\site-packages (from webdriver_manager) (1.0.1)\n",
      "Requirement already satisfied: packaging in c:\\users\\pc\\appdata\\roaming\\python\\python311\\site-packages (from webdriver_manager) (24.0)\n",
      "Requirement already satisfied: charset-normalizer<4,>=2 in c:\\python311\\lib\\site-packages (from requests->webdriver_manager) (3.3.2)\n",
      "Requirement already satisfied: idna<4,>=2.5 in c:\\python311\\lib\\site-packages (from requests->webdriver_manager) (3.7)\n",
      "Requirement already satisfied: urllib3<3,>=1.21.1 in c:\\python311\\lib\\site-packages (from requests->webdriver_manager) (2.2.1)\n",
      "Requirement already satisfied: certifi>=2017.4.17 in c:\\python311\\lib\\site-packages (from requests->webdriver_manager) (2024.2.2)\n",
      "Note: you may need to restart the kernel to use updated packages.\n"
     ]
    },
    {
     "name": "stderr",
     "output_type": "stream",
     "text": [
      "\n",
      "[notice] A new release of pip is available: 23.3.1 -> 24.0\n",
      "[notice] To update, run: python.exe -m pip install --upgrade pip\n"
     ]
    }
   ],
   "source": [
    "pip install webdriver_manager\n"
   ]
  },
  {
   "cell_type": "code",
   "execution_count": 284,
   "metadata": {},
   "outputs": [],
   "source": [
    "from bs4 import BeautifulSoup\n",
    "import requests\n",
    "import pandas as pd\n",
    "from selenium import webdriver\n",
    "from selenium.webdriver.chrome.service import Service\n",
    "from selenium.webdriver.common.by import By\n",
    "from time import sleep\n",
    "import re"
   ]
  },
  {
   "cell_type": "code",
   "execution_count": 285,
   "metadata": {},
   "outputs": [],
   "source": [
    "service = Service()\n",
    "\n",
    "options = webdriver.ChromeOptions()\n",
    "\n",
    "driver = webdriver.Chrome(service = service, options = options)"
   ]
  },
  {
   "cell_type": "code",
   "execution_count": 286,
   "metadata": {},
   "outputs": [],
   "source": [
    "url = 'https://www.goodreads.com/book/show/7716140-married-with-zombies'\n",
    "\n",
    "driver.get(url)"
   ]
  },
  {
   "cell_type": "code",
   "execution_count": 287,
   "metadata": {},
   "outputs": [],
   "source": [
    "page_content = driver.page_source\n",
    "soup = BeautifulSoup(page_content, 'html.parser')"
   ]
  },
  {
   "cell_type": "code",
   "execution_count": 288,
   "metadata": {},
   "outputs": [
    {
     "name": "stdout",
     "output_type": "stream",
     "text": [
      "URL da imagem: https://images-na.ssl-images-amazon.com/images/S/compressed.photo.goodreads.com/books/1265814659i/7716140.jpg\n"
     ]
    }
   ],
   "source": [
    "img_element = soup.find('img', class_='ResponsiveImage')  # Substitua 'class_da_imagem' pela classe real da imagem\n",
    "\n",
    "if img_element:\n",
    "    img_url = img_element['src']\n",
    "    print(\"URL da imagem:\", img_url)"
   ]
  },
  {
   "cell_type": "code",
   "execution_count": 289,
   "metadata": {},
   "outputs": [
    {
     "name": "stdout",
     "output_type": "stream",
     "text": [
      "Married with Zombies\n"
     ]
    }
   ],
   "source": [
    "title = soup.find('h1', class_=\"Text Text__title1\").text\n",
    "print(title)"
   ]
  },
  {
   "cell_type": "code",
   "execution_count": 290,
   "metadata": {},
   "outputs": [
    {
     "name": "stdout",
     "output_type": "stream",
     "text": [
      "Jesse Petersen\n"
     ]
    }
   ],
   "source": [
    "author = soup.find('span', class_=\"ContributorLink__name\").text\n",
    "print(author)"
   ]
  },
  {
   "cell_type": "code",
   "execution_count": 291,
   "metadata": {},
   "outputs": [
    {
     "name": "stdout",
     "output_type": "stream",
     "text": [
      "['Zombies', 'Horror', 'Romance', 'Humor', 'Fiction', 'Fantasy', 'Paranormal']\n"
     ]
    }
   ],
   "source": [
    "collapsible_list = soup.find('ul', class_=\"CollapsableList\")\n",
    "genre_elements = collapsible_list.find_all(class_='Button__labelItem')\n",
    "genres = [element.text for element in genre_elements]\n",
    "word_to_remove = \"...more\"\n",
    "genres_without_word = [genre for genre in genres if genre != word_to_remove]\n",
    "print(genres_without_word)"
   ]
  },
  {
   "cell_type": "code",
   "execution_count": 292,
   "metadata": {},
   "outputs": [
    {
     "name": "stdout",
     "output_type": "stream",
     "text": [
      "['272 pages, Mass Market Paperback']\n"
     ]
    }
   ],
   "source": [
    "detailspage = soup.find('div', class_=\"FeaturedDetails\")\n",
    "pagenumber = detailspage.find_all(attrs={\"data-testid\": \"pagesFormat\"})\n",
    "page = [element.text for element in pagenumber]\n",
    "print(page)"
   ]
  },
  {
   "cell_type": "code",
   "execution_count": 293,
   "metadata": {},
   "outputs": [
    {
     "name": "stdout",
     "output_type": "stream",
     "text": [
      "['First published September 1, 2010']\n"
     ]
    }
   ],
   "source": [
    "publication = soup.find('div', class_=\"FeaturedDetails\")\n",
    "firstpubli = publication.find_all(attrs={\"data-testid\": \"publicationInfo\"})\n",
    "firstpubli = [element.text for element in firstpubli]\n",
    "print(firstpubli)"
   ]
  },
  {
   "cell_type": "code",
   "execution_count": 294,
   "metadata": {},
   "outputs": [
    {
     "name": "stdout",
     "output_type": "stream",
     "text": [
      "3.75\n"
     ]
    }
   ],
   "source": [
    "note = soup.find('div', class_=\"RatingStatistics__rating\").text\n",
    "print(note)"
   ]
  },
  {
   "cell_type": "code",
   "execution_count": 295,
   "metadata": {},
   "outputs": [
    {
     "name": "stdout",
     "output_type": "stream",
     "text": [
      "['6,926 ratings']\n"
     ]
    }
   ],
   "source": [
    "ratings = soup.find('div', class_=\"RatingStatistics__meta\")\n",
    "all_ratings = ratings.find_all(attrs={\"data-testid\": \"ratingsCount\"})\n",
    "rating = [element.text.replace('\\xa0', ' ') for element in all_ratings]\n",
    "\n",
    "print(rating)"
   ]
  },
  {
   "cell_type": "code",
   "execution_count": 296,
   "metadata": {},
   "outputs": [
    {
     "name": "stdout",
     "output_type": "stream",
     "text": [
      "['1,050 reviews']\n"
     ]
    }
   ],
   "source": [
    "review = soup.find('div', class_=\"RatingStatistics__meta\")\n",
    "allreview = review.find_all(attrs={\"data-testid\": \"reviewsCount\"})\n",
    "review = [element.text.replace('\\xa0', ' ') for element in allreview]\n",
    "print(review)"
   ]
  },
  {
   "cell_type": "code",
   "execution_count": 297,
   "metadata": {},
   "outputs": [],
   "source": [
    "sleep(5)"
   ]
  },
  {
   "cell_type": "code",
   "execution_count": 298,
   "metadata": {},
   "outputs": [
    {
     "name": "stdout",
     "output_type": "stream",
     "text": [
      "<selenium.webdriver.remote.webelement.WebElement (session=\"1b84bdfb5a374ac405bc4838ed78a3c9\", element=\"f.0DFB9F0445D4026CAB947028194061EC.d.3AA5A23CA42E195D2A1B8F87363225EC.e.35\")>\n"
     ]
    }
   ],
   "source": [
    "button = driver.find_element(By.XPATH, \"//span[@class='Button__labelItem' and text()='Book details & editions']\")\n",
    "print(button)\n",
    "\n",
    "button.click()\n",
    "\n",
    "sleep(5)"
   ]
  },
  {
   "cell_type": "code",
   "execution_count": 299,
   "metadata": {},
   "outputs": [],
   "source": [
    "page_content = driver.page_source\n",
    "soup = BeautifulSoup(page_content, 'html.parser')"
   ]
  },
  {
   "cell_type": "code",
   "execution_count": 300,
   "metadata": {},
   "outputs": [
    {
     "name": "stdout",
     "output_type": "stream",
     "text": [
      "ISBN: 9780316102865\n"
     ]
    }
   ],
   "source": [
    "edition_details = soup.find_all('div', class_='DescListItem')\n",
    "\n",
    "# Itera sobre os elementos encontrados\n",
    "for detail in edition_details:\n",
    "    # Verifica se o texto do item contém 'ISBN'\n",
    "    if 'ISBN' in detail.text:\n",
    "        # Extrai o texto do div\n",
    "        isbn_text = detail.text.strip()\n",
    "\n",
    "        break\n",
    "\n",
    "if isbn:\n",
    "    print('ISBN:', isbn)\n",
    "else:\n",
    "    print('ISBN não encontrado.')"
   ]
  },
  {
   "cell_type": "code",
   "execution_count": 301,
   "metadata": {},
   "outputs": [
    {
     "name": "stdout",
     "output_type": "stream",
     "text": [
      "<selenium.webdriver.remote.webelement.WebElement (session=\"1b84bdfb5a374ac405bc4838ed78a3c9\", element=\"f.0DFB9F0445D4026CAB947028194061EC.d.3AA5A23CA42E195D2A1B8F87363225EC.e.37\")>\n"
     ]
    }
   ],
   "source": [
    "button_reviews = driver.find_element(By.XPATH, \"//span[@class='Button__labelItem' and text()='More reviews and ratings']\")\n",
    "print(button_reviews)"
   ]
  },
  {
   "cell_type": "code",
   "execution_count": 302,
   "metadata": {},
   "outputs": [],
   "source": [
    "sleep(5)"
   ]
  },
  {
   "cell_type": "code",
   "execution_count": 304,
   "metadata": {},
   "outputs": [],
   "source": [
    "button_reviews.click()\n",
    "\n",
    "sleep(5)"
   ]
  },
  {
   "cell_type": "code",
   "execution_count": 305,
   "metadata": {},
   "outputs": [
    {
     "name": "stdout",
     "output_type": "stream",
     "text": [
      "<selenium.webdriver.remote.webelement.WebElement (session=\"1b84bdfb5a374ac405bc4838ed78a3c9\", element=\"f.0DFB9F0445D4026CAB947028194061EC.d.633451400B134C059B93DB7930505290.e.87\")>\n"
     ]
    }
   ],
   "source": [
    "button_more_reviews = driver.find_element(By.XPATH, \"//span[@data-testid='loadMore']\")\n",
    "print(button_more_reviews)"
   ]
  },
  {
   "cell_type": "code",
   "execution_count": 308,
   "metadata": {},
   "outputs": [],
   "source": [
    "button_more_reviews.click()\n",
    "\n",
    "sleep(5)"
   ]
  },
  {
   "cell_type": "code",
   "execution_count": 309,
   "metadata": {},
   "outputs": [],
   "source": [
    "page_content = driver.page_source\n",
    "soup = BeautifulSoup(page_content, 'html.parser')"
   ]
  },
  {
   "cell_type": "code",
   "execution_count": 310,
   "metadata": {},
   "outputs": [
    {
     "name": "stdout",
     "output_type": "stream",
     "text": [
      "JESUS CHRIST, HOW MANY TIMES AM I GOING TO HAVE TO EDIT THIS!! THIS MASCOT COMPETITION IS TURNING INTO SOME MISS AMERICA SCANDAL!! WALBERT IS BACK IN THE RUNNING. HE HAS NO SHOT OF WINNING, BUT LOOK HOW CUTE HE IS!!! LOOOOOOK!! COMPARED TO THE BEE, HE IS THE PMOAT!!!http://www.goodreads.com/blog/show/24...as an aside- i really hate that bee, and it would make the site look like one for doofy toddlers, not bookish adults. i can stand to lose to a hedgehog, but that bee has got to go down (LGM)so but zombies. this book was much more enjoyable than i had feared. humorous zombie books are tricky to pull off. on the one hand, a creature that only wants to eat your brains is funny. on the other hand- seriously - it really wants to eat your brains. that's not funny. but i found myself reluctantly charmed by this couple and their struggles to maintain their relationship and not get turned into zombies, all in the same day. thankfully, they had seen some zombie movies (which they were not afraid to reference). the \"figuring out\" part of zombie movies and books is always a real downer. \"what are these creatures?? what do they want???\" please. if i go outside today and see someone shuffling down the street, head cocked, moaning a little, i am going to crossbow it in the head. and if it is simply a stroke victim - well, mea culpa. you would have been thanking me if it had been a zombie. but when characters waste too much time scratching their heads and wondering \"what do we dooooo?\", it just frustrates the audience. this book had good ass-kickery mixed with actual humor (i.e. - humor that made me laugh, not just cheap placeholder humor) and a bonus cult situation. the surprises never felt contrived - there were some genuinely intense moments, and i ended up rooting for the pair to rekindle their love and shoot some corpses in the head. good times. on halloween, i was read-walking this very book down the street, and i saw the saddest thing: a little princess had rung the doorbell of an old man's house, and he opened the door and bellowed \"no trick or treaters!!!\" dude! just don't answer the door, no need to be a jerk about it. i kind of wish she had been a zombie, and had eaten him. then i wrote a story in my head where all the trick-or-treaters were zombies and i walked a little more quickly to escape them. in summary:bee= badthis book = good.also - just for the record - i do not like how this book tore the rbrs apart into two factions. can we come together again for next month, pleeeeeze??come to my blog! Show more\n",
      "\n",
      "\n",
      "Sarah and David are on their way to marriage counseling when the world goes crazy. The zombie apocalypse is upon them. They must find a way to survive the zombies and being with each other. This book is hilarious. I laughed from beginning to end. I loved the characters and was invested in their survival quickly. Not only that, but I couldn't put it down!😺😺😺😺Show more\n",
      "\n",
      "\n",
      "Find all of my reviews at: http://52bookminimum.blogspot.com/When this popped up on my feed awhile back I immediately went to the library to see if it was available on audio – while simultaneously wondering how I had missed reading it back in my Zombies4Eva phase. Well, turns out I had read it but since I am a moron I had completely forgotten all about it. So unlike me, right? It also turns out back in the day I was even worse at reviewing than I am now because I straight up compared this to Zombieland. I’m surprised a hoard of townsfolk and their pitchforks didn’t show up on my front yard for that one! I guess it’s because they were both funny approaches to the undead? Or I used to smoke crack and have forgotten all about that too . . . . \n",
      "\n",
      "Whatever the case, Shady’s back – back again – this time listening to a story I already read years ago. So what is the story, you ask? Sarah and Dave show up for their weekly marital counseling only to discover the “perfect” couple that has the appointment immediately before theirs nom-nomming on the good doctor. The two decide to call it a day and head home to . . . . \n",
      "\n",
      "Plans change, however, when their neighbor tries to eat them. It’s then they realize that they’re going to have to go from passive aggressive to aggressive aggressive . . . . \n",
      "\n",
      "And do whatever it takes to make it to their family . . . . \n",
      "\n",
      "In the process? They might just save their marriage . . . . \n",
      "\n",
      "This ended up being 3 Star fun the second time around. My only complaint? I HATED the narrator and it turns out she reads a shitton of audiobooks so now I’m sad for eternity.Show more\n",
      "\n",
      "\n",
      "Opening Line: \"David and I became warriors in the zombie plague on the first day, but I don't think that means we were front line soldiers or something.\"Touted as “romantic comedy with…brains.” this was a fantastic, super fun read that had me laughing from page 1 and just didn’t stop. Alongside all the gore and zombie mayhem there’s also a well written, action filled, story here which I think anyone who’s been in a long term relationship or seen Sean of the Dead will be able to relate to. Following average Seattle couple, Sarah and David as they try to save not only their crumbling marriage but struggle through the first few days of a zombie apocalypse. With only each other to rely on it becomes as much of a struggle not to kill the other as it does to battle the rising undead.I loved the way this was written, I loved that Sarah and David live in the real world, they talk like we do, they bicker, they swear at each other, they drive a crappy car, they figure out how to kill zombies from plotlines they’ve seen in movies. And the chapter headings are hilarious too, consisting of *helpful relationship advice quotes*, altered to take into account the whole zombie issue. Married With Zombies takes a light hearted look at marriage while kicking major zombie ass and it was a blast. Sarah and David are on the verge of divorce so it’s no wonder they don’t notice a few strange sightings on their way to couples counselling. However when they find Dr Kelly eating the previous clients it gets their attention. Suddenly which radio station to listen to, or how much time David spends playing video games is the least of their concerns. Which piece of office equipment best disables a zombie is the new normal. As it turns out a letter opener, high heeled shoe or even a well aimed Dr Phil book will work in a pinch. Learning as they go Sarah and David return home only to find their undead neighbour in their bathroom, -turns out you can also kill a zombie by crushing his head with a toilet seat, however this does make things a little awkward when his girlfriend shows up. Luckily she’s got a stockpile of guns and ammunition (never can tell about ones neighbours can you) Because Sarah and David are about to leave the city, I mean things have got to better in the suburbs, right? You’ll be cheering this dysfunctional couple along as they stumble across plagues of the undead, religious cults, a visit to a zombie casino, looting (another new normal) first drives in luxury cars, broken limbs and a visit to the country fair (zombies on ferris wheel anyone) Through all the arguing, when it comes right down to it theres no one else Sarah or David would rather go through a zombie apocalypse with than each other. CheersThankfully this is only the first instalment from the Living With The Dead Series, Flip this Zombie is next.*Men are from mars zombies are from hell.*Balance the workload in your relationship. No one person should be responsible for killing all the zombies.*Make requests, not demands “please” kill that zombie honey, I’m out of bullets.*Support your partner in their interests. You never know when batting practice, kung fu movies or even poker night might come in handy during a zombie infestation.*Never go to bed angry, terrified is okay.*Give each other compliments every day. Even when the undead attack, its nice to feel pretty or badass.*Address one issue at a time. You can’t load gasoline, pick up food and kill 15 zombies all at once.\"I should have know that having \"end of the world\" sex wouldn't solve our problems. Though it was pretty great and I highly recommend it. Its one of the big benefits of an apocalypse that no one tells you about. It just makes everything...better, because you know it might be the last time every time.\"\"Have you ever wanted to smash a car? or break a television? Or maybe burn a big fire in the middle of a city square? If the answer is yes, then you'd have some fun during a zombie infestation. Its the little moments, you know?\"Show more\n",
      "\n",
      "\n",
      "Rbrs #7/8This book made me realize I'm not a real horror fan at all, and I would wet myself (w/pee, get your mind out of the gutter and into the sewer) if I ever read or watched a serious horror book or movie instead of the campy and hilarious. Married With Zombies is campy and hilarious, but the first several zombie encounters freaked me out. Note to self, don't read zombie books at night, alone, with only one lamp on.This was a very fun, light, snarky book. Complaints below shouldn't stop anyone from reading it.The main characters are a married couple who are on the brink of divorce but a sudden zombie apocalypse brings them together for survival. The story sets up sequels, with non-zombie bad guys still alive to be encountered later, a father who may still be alive, a destination, etc. The writing was aimed directly at my generation, referencing current pop culture that would probably confuse the readers of the near future (my favorite, ...I said with the same reverence I would have used if I saw Joss Whedon or something.). Petty dislike - the author overused the word \"whispered.\" Half the dialogue is \"whispered.\" Try whispering something and hear for yourself how stupid you sound. Besides the dependable \"said,\" I wish she changed it up with \"breathed\" or \"grated\" or \"howled\" or how about nothing and conveying the emotion another way?These characters survive by drawing upon their knowledge of zombies in movies and books, so I thought about the few zombie movies and books I've seen and read to assess whether I'd survive if the worst happened. What sucks is that they contradict each other, so that tactic probably isn't helpful. But, although the zombies in this particular book are pretty frightening if they were real, they don't make too much sense since a certain behavior would eliminate the likelihood of propagation...comparing the two zombie books I've read, I've made lists of what I remember:World War Z (WWZ)- they shamble slowly- depending on where the infection takes hold in the body, zombification can take hours or days- they can smell/sense living humans so acting like one doesn't work- they don't breathe or eat, so they can survive underwater and w/o sustenance- they will bite/chomp anything, not focused just on braaaaaaains- they can only be stopped by destroying the zombies' braaaaaaaaainsMarried With Zombies (MWZ)- they can RUN, and retain enough dexterity for doorknobs, and STILL have higher brain function and intelligence intially, and even afterwards they don't just go for the braaaaaains but set up ambushes (like hiding under a desk until a human is within reach, then jumping out)- they zombify within 15 minutes- they can be fooled by acting like a zombie- they breathe (one was described as breathing)- they hunger for braaaaaains but seem to feast on every body part- they can only be stopped by destroying the zombies' braaaaaaainsHOW ARE WE EXPECTED TO SURVIVE WHEN OUR SOURCE MATERIALS SAY OPPOSITE THINGS???The most ridiculous issue is the last couple points - if they eat brains, how do the mangled corpses in MWZ become more zombies when destroying the brain destroys the zombie? Are there that many who pull away and run fast enough to escape zombies that can also run? If they change that fast, how do they spread that fast when they wouldn't be able to hide their state (and bloodiness), and wouldn't be able to operate a vehicle to go any distance? I think WWZ ruined me for any other zombie book, since it thought out the logistics of a zombie apocalypse too well. Also ridiculous, the main characters are crack shots with whatever pistols and rifles they find...wouldn't they need some past shooting experience or practice? So many of their initial reactions to the zombies should've gotten them killed, but they managed to pull through with lucky circumstances each time...pssh.I'll still read the sequels of this book because it was funny and snide. Logic ruins mindless fun.This entire review has been hidden because of spoilers.Show full review\n",
      "\n",
      "\n",
      "\n",
      "RULES TO BE FOLLOWED DURING AN APOCALYPSE.Make requests, not demands.example: “please” kill that zombie honey, I’m out of bullets. \n",
      "OMG ! this book was absolulty fantastic !! and LOL defiantly hilarious !from the story's first intal pages to its very end..this book kept me entertained and laughing as i flipped through the adventures of our two humans DAVE AND SARAH  against the apocalypse.\n",
      "\"The Couple who Slays together , Stays Together\"\n",
      "LOL true,who knew killing you brain-eating/marriage saving councilor would actually save your relationship ? Apparently its now being proven true maybe you should give it a go ;D\n",
      "I never would have guessed that unlike therapy, unlike the self-help books that littered our apartment at the time, killing zombies would save my relationship.But yeah,whatever..\n",
      "\n",
      "RECOMMENDATION:\n",
      " anyway guys , all im saying is give it a go ! this book might be a hilarious chick-lite pick up on the way read...but its one of those 'DEFIANTLY WORTH IT ones....'...had loads of funny reading this one..now im totally ready to move onto the rest....\n",
      "\"Have you ever wanted to smash a car? or break a television? Or maybe burn a big fire in the middle of a city square? If the answer is yes, then you'd have some fun during a zombie infestation. Its the little moments, you know? \n",
      "LOLShow more\n",
      "\n",
      "\n",
      "There is nothing special about David and Sarah. Even their names are boring. In fact, I never remembered their names during the course of the book, I had to look them up for purposes of writing this review. They are vaguely middle-class but having financial difficulties (what twentysomething isn't?), don't have exciting careers, have no special secret backgrounds in martial arts, weaponry, or magic, and pretty much lack any noteworthy hobbies or personality traits. In short, they are an Everycouple. We get the story of the zombie apocalypse from their point of view, not because they are exceptional but merely because they happen to not die. At least, I think this is what the author was going for. But is the average couple really this bland, this boring? I don't believe that; my father used to tell me, \"There are no normal people, just people you don't know very well.\" I get that Sarah and David are intentionally generic, but this was neither believable or interesting. At the start they seemed more petty and spiteful, and I was looking forward to some character growth, but instead they sensibly abandoned their antagonisms in the face of mortal danger and went from generic-feuding-couple to generic-monster-fighting duo. But since I couldn't believe in them as individuals I didn't much care if they lived or died. I would have actually preferred to hate them more; then I could hope for either their deaths or some sort of transformative experience.But don't get me wrong, I didn't hate this book. It is a light, slightly amusing, inoffensive story that requires no effort on the reader's part. There were a few moments of cleverness and a few moments when the characters seemed to display fledgling emotions. And there was no necrophilia, which is always a plus in my book. So I have no complaints about the hour or so this took out of my day; on the other hand, I'm not planning to read the sequel.Show more\n",
      "\n",
      "\n",
      "As an unmarried person with many married friends, I have heard my share of lectures and seen my share of demonstrations about how to have a successful (or repair a broken) marriage. I get why you would have to talk about marriage lessons after you learn them because it really is an accomplishment to realize something about relationships. But I never realized until I read this book that it would be SO MUCH MORE FUN if they told their stories with ZOMBIES!!!! Yaaaaay! Not that I wish they had to fight zombie hordes (well, maybe I do wish some of them would, if we’re being completely honest . . .). But, sometimes I bet half of what they’re saying is made up anyway, whether they know it or not, so add some freaking undead, people!!So, yes, I’m giving this book a very inflated 4 stars. This is another casualty of the Skye O’Malley tragedy. This is probably more of a 3-star book, but it’s so much better than all of the other RBR reads! I’m suspicious that it is better because it’s not actually a romance, but we’ll choose to turn a blind eye to that for now. The minute I held this book in my loving little hands at Powell’s in Portland, I knew we had a connection, though. This is my kind of self-help. Self-help with BRAAAaaaaAAAINS!!!My only complaint is that there is a great part with a cult, but the cult was not nuanced enough for my taste. I like to see a cult that has some draw at first and then later chains you up. The cult leader in this book was a little too stranger-danger for me to feel sorry for them when they got locked up. Don’t worry, I won’t tell you what happens then.I think that complaint goes to how I still think watching zombies is a more pleasing overall experience than reading about zombies. Like, if the cult leader guy had been on the TV, it probably wouldn’t have bothered me that he was too obviously loony tunes. Horror movies are so flash-bang that you don’t have the time to pause and want a little more complexity. And I don’t want to want complexity with my zombies! If I get it, great, if not, then I get omg-we’re-all-gonna-die instead, which is just as good. So, basically, I’m bothered by my being bothered.There’s not a lot to say about this particular piece of litratuhr, and my fellow rippers have done an excellent job in their analysis already by noting the references to Whedon, Zombieland, and Shaun of the Dead. I was satisfied by those references. Jesse Petersen knows her shit. Also, she knows where her book is going to land in the continuum of zombie stories. That’s a bonus. But, now I am off to explore the complexity of the human spirit in The Egg Said Nothing and This is Not a Flophouse. I’m sure I’ll have more to say about those two because I can already tell they have a beautiful mix of subtlety, nuance, and flash-bang. Show more\n",
      "\n",
      "\n",
      "Rating: 1/5DNF at 43%This was not what I hoped for. It was boring and not as much fun as I thought it'd be. There were a lot of zombie attacks but still this wasn't really exciting. I didn't care about the characters or what will happen to them. I am kind of disappointed because this seemed like something I would enjoy (or even love).Show more\n",
      "\n",
      "\n",
      "This review can also be found at https://carolesrandomlife.com/This was a lot of fun! It has been a while since I picked up a zombie book so I decided that it was time to finally give this book a try. Zombies plus a nice dose of humor? Yes, please! I liked Sarah and David and appreciated the fact that instead of making goo-goo eyes at each other they were headed for divorce before zombies started showing up. They actually learn about the zombies when their marriage counselor tries to eat them.This was a rather light read with enough zombie action to keep things interesting. David and Sarah were great characters and I enjoyed seeing their attitudes towards each other shift as they dealt with the crisis they found themselves in. Nothing like a few zombies to save a marriage. While I didn’t find myself laughing out loud, I really enjoyed the humor worked into the story.I thought that Cassandra Campbell did a wonderful job with the narration. I thought that she did a great job with the various character voices and I thought that she brought just the right amount of emotion to her reading. I hope to pick up the next book in the series very soon.Book Source: LibraryShow more\n",
      "\n",
      "\n",
      "a quick and entertaining read! i'm a sucker for zombie stories and had been meaning to pick this one up for ages (but i kept putting it off because, well, the cover put me off 😂). married with zombies definitely gave me z nation vibes, and i'd recommend this for anyone who's a fan of the show. \n",
      "\n",
      "\n",
      "Dear god, what have I read?! Horrific. Superficial Too Stupid To Live characters I don't care about, stumbling around blindly asking to be eaten.ComedyHaving loved the show Married with Children I impulsively decided I would love this too. However, I'm wondering now whether \"zombies\" and \"comedy\" can ever be a good mix in the post-Carry On world, and in the absence of Simon Pegg (Shaun of the Dead totally pulls off the ZomRomCom). And perhaps with this book by marketing it as a comedy excuses the wafer-thin characters, the TSTL behaviour (e.g. checking out a potentially zombie-infested casino for the hell of it) and inappropriately timed arguments (while zombies are bearing down on you) about nothing in particular.RomanceUm, where exactly was the romance? We meet Sarah and David on the brink of divorce as they attend their regularly scheduled marriage counseling appointment. David's demise from having a promising future to being an unemployed deadbeat husband and all-round slacker and Sarah's exhausted from having to work 6 days a week leads her to constantly criticise him and picking fights at every given opportunity, leaving them both deeply unhappy and wanting out of their marriage. Counselling wasn't helping until...they killed their therapist. After that they work together to kill (directly and indirectly) almost every human they come into contact with regardless of whether they happen to be infected. In doing this they come to see each other's positive attributes i.e. bravely killing everything in sight, appearing as heroes in each other's eyes. So again, where was the romance? One off-stage sex scene and...I can't remember if they ever kissed. Not good.ZombiesWere pretty cool actually. From bite to brain-eating, the incubation period is 10-25 minutes. Red eyes, strangely happy facial expressions, faster than the average human and the ability to continue simple repetitive actions, describe these zombies. Although there is the requisite gory imagery e.g. a legless undead dragging itself along the ground carrying a baby in it's mouth, it never truly hits home, the gut-wrenching horror of it all. I hold Rhiannon Frater's As the World Dies trilogy up as the epitome of all things zombie and while reading it I laughed, I cried and I added guns to my wishlist. That was terrifying but there was humour, too. A good balance. MWZ focuses too much on the humour and whilst funny, sometimes it was grossly overused and forced, at the detriment of the characters' intelligence and the graveness of the situation. It's the same with the swearing, I'm not opposed to the well-timed f-word when the world is going to hell and you could die at any moment but it shouldn't be repetitive. After ogling this book for a while I'm disappointed it didn't live up to my expectations. I could've DNF'd at any point, my lack of affection for the couple left me uninterested in whether they lived or died but obviously they were never in any danger considering it's part of a series. If you have some time to waste...Show more\n",
      "\n",
      "\n",
      "'...I never would have guessed that unlike therapy, unlike the self-help books that littered our apartment at the time, killing zombies would save my relationship.'Sarah and Dave are having marital problems and have been attending marriage counseling once a week for the past 6 months. On the way to their weekly visit, their session ends up going far differently than the others: their marriage counselor attempts to eat them. After a momentary fight for their lives where their marriage counselor ends up with a stiletto to the head, they realize something is definitely amiss. From that point on, their lives were never quite the same; yet somehow it managed to change their relationship for the better. After the two make plans to leave their home in Seattle and head to Dave's sisters house, they realize that not only is the world going to shit, but it's happening quickly.This was the book that started my zombie crazed love so I'm really quite partial to it, but I couldn't have started with a better one. It has the perfect mix of blood and guts, sarcastic humor, and demented brain seeking zombies. I loved Sarah and David; they were a perfectly realistic couple just doing what it takes to survive (from the zombies and each other). The chapter titles were a hilarious addition as they were a new 'suggestion' with each new chapter. 'Chapter 2 - Balance the workload in your relationship. No one person should be responsible for killing all the zombies.'A super fast and enjoyable read that you simply won't be able to put down! If you're a fan of zombies, this is a must for you!Show more\n",
      "\n",
      "\n",
      "Who knew a story could be so disgusting and hilarious at the same time?Married with Zombies was fast-paced, full of kick ass action and lots of humor, with two enjoyable characters that you'll cheer for until the very end.Sarah and David's circumstances were highly amusing. Not because they were fighting for survival against hordes of zombies, but because they were a couple forced to work together to stay alive when they couldn't even decide on how to handle listening to music together in the car. As the story progresses, we witness the development and strengthening of their relationship with each decapitated zombie and every near death experience that they survive.As with any good zombie novel, there are casualties to face. So the story does occasionally have some heartfelt and heartbreaking moments. But more often than that, there are less serious moments where we are introduced to zombie strippers, zombies with gambling addictions, and relationship advice that I couldn't help but to smile about.\"Put the small stuff into perspective. It's better to be wrong and alive than right but eating brains.\"I recommend Married with Zombies to anyone who enjoys a good dose of humor along with gory, vividly-detailed zombie carnage. And really, who wouldn't enjoy that?I can't wait to read about Sarah and David's next adventure in Flip This Zombie. \"Sarah, do you really want to tell her about our plans?\" he asked, his voice low so she wouldn't hear us argue.\"Why not?\" I asked as I shrugged his hand away.\"Because I'm not really certain she'd make the best travel partner through a zombie-infested city,\" he hissed. \"She gets confused by Scrabble.\"Show more\n",
      "\n",
      "\n",
      "After 5 years of marriage a young couple find that they are having marital problems so decide to go see a local marriage counsellor. And then the Zombie outbreak arrives!! Just how would this apocalyptic world changing event affect their own personal relationship as well as the fate of the whole world? - well America's West coast first, I suppose.This is a fun-filled, modern day, good old-fashioned Zombie romp containing an abundance of all the usual trimmings that the reader would come to expect - lots of blood, lots of gore, lots of killings, lots of thrills, lots of spills and finally, but definitely not least,...lots and lots of fun! Written in a humorous fashion with lots of great characters, sparkling wit and great dialogue, this is one stereotypical Zombie adventure/journey surely not to be missed. So why not escape the harsh world of reality for a while and go enjoy this piece of pure undead rattling good fun - you won't be disappointed. Top Tip - 'Toilets seats go down!!\" Rating: 4.5 stars.Show more\n",
      "\n",
      "\n",
      "I came across this book few days ago and really liked the plot, so decided to read it right away.This book is humorous even with zombie plot,not in a Laugh-out-loud kind of way,but it has its funny moments. This book is exactly what I was looking for;light and funny.I really enjoyed reading this book,the characters were really good and even the story was enjoyable.Overall It was a nice read.Show more\n",
      "\n",
      "\n",
      "There’s nothing like a zombie apocalypse to lend perspective to one’s marriage troubles. This book mixes humor, gore, and adventure to create a remarkable story about a troubled marriage in the midst of the zombie plague. Quirky, irreverent, and suspenseful, this memorable tale keeps the suspense strong until its thoroughly satisfying conclusion.Show more\n",
      "\n",
      "\n",
      "I was shocked by how good this book was! I would recommend it to anyone who likes zombie stories. It was humorous as well, which is always a plus. \n",
      "\n",
      "\n",
      "This was the perfect mix of zombie mayhem and campy horror. If marriage wasn't hard enough the zombie apocalypse couldn't possibly make it any worse. This was the perfect book series to start off my spooky season reads.\n",
      "\n",
      "\n",
      "'Married with Zombies' is such a fun book! The main characters, Sarah and David, are married, and while there is a zombie apocalypse unfolding around them, they still argue about the issues that had them in therapy to begin with, and because of these two characters, 'Married with Zombies' gives a slightly original slant on the usual characters offered in zombie fiction.However, that's where the originality ends, this book is full of zombie fiction cliches, but you know what, I didn't care. This is such a great read because it is pure entertainment. I giggled at their quibbles and yet there is still enough substance and depth to make me care about both these characters. There's also enough disgusting viscera and brain munching to keep me happy with regards to action and it's a fast-paced read.It begins when Dave and Sarah are on their way to see their marriage therapist and notice that the roads aren't as busy as usual. But they don't think much about it and continue bickering. When they arrive at their therapy session they wait outside the room. After waiting for what seems like ages, Sarah opens the door to find Dr Kelly munching on her previous clients.The first thing I noticed was that Dr. Kelly's eyes were no longer blue. Now they were red with huge pupils that didn't seem to focus on anything in particular, even when she looked right at us.Her skin was a greyish tone, sickly and pale and...dead-looking, honestly. Except for her mouth, which was covered with a black substance that clung to her lips and teeth. Her chin was bright red with blood and sticky with flesh from the fresh meal she had just devoured.\"Um, Dr. Kelly,\" I said, hardly able to breathe. \"Dr. Kelly, are you okay?\"From there chaos ensues and Dave and Sarah find themselves in a zombie infested world where they have to fight, kill and steal to stay alive. It's the same old story I've read many times within this genre, but it's wrapped in snappy dialogue and contains two very interesting, fun characters.There are a few other characters throughout the book but they are fleeting acquaintances. Mostly, Dave and Sarah have to pull together to survive, and they begin to surprise themselves at what they're actually capable of.I shook off my surprise and started booking it across the parking lot again. One of the zombies broke toward us and caught up to us pretty easily since we were slowed down by Dave's injury. I pushed my husband behind me and did the thing you always see at some point in zombie movies.I went all kung fu on his zombie ass.They soon begin to work as a team and although this is a story about a married couple with zombies, there's still enough action to keep the story moving along at a perfect pace. It's also narrated by Sarah, who's funny and brave - I like her a lot. Dave's great too but for me Sarah is the star.VERDICT:'Married with Zombies' is a wonderfully entertaining read. The writing is witty, the characters are warm and funny and the story is suspenseful and exciting. The slight twist on the typical hero and heroine of zombie fiction makes this is a refreshing read and I highly recommend it to any zombie fan.Show more\n",
      "\n",
      "\n",
      "Listened to this book on audio and this was just a fun, quick read and perfect for the spooky month of October! I am not a huge zombie fan but this concept came up as a challenge in one of the groups that I am in and it was a bit out of my comfort zone so I decided to give it a try. I loved this because it was about a couple struggling with their marriage amidst the start of a zombie apocalypse which in turn actually helped save their marriage. They have to work together, talk things out, and apparently when you think EVERY day could be the end of the world, the sex is amazing! Every chapter has a title - a HILARIOUS title that came across that much funnier to me due to listening to this on audio. The entire book was a bit of a comedy as much as it was creepy due to the continued, creative ways in which to kill zombies. The couple turns zombie killing into a sport and takes life day by day without getting too serious about it and I love that. There is also constant references to didn't do this or didn't they try that in the movies or on TV - which makes sense because who really is ever prepared for the zombie apocalypse???So why not five stars? Well, as much as I realize that they are taking it day by day and not taking life too seriously - I guess I was a little disturbed at how frivolous they were about some of the people they had to kill because they were bitten. More so how quickly they got over the fact afterward I guess but it wasn't enough to completely kill the book for me, no pun intended, and if you want a quick, fun book for the Halloween season, I highly recommend it!Show more\n",
      "\n",
      "\n",
      "Before I get into this particular work, I would like to say that there is only one true rom-com with zombies:And don't think I didn't see the spots where Petersen was obviously channeling that movie. TW/CW: very fatphobic, gore, gun violenceThis was included in Audible's last 2-for-1 sale and seemed like it could be an interesting listen.Man, what a flop this was.The zombies were actually charming in their own right and the mythos for them here was a bit of a change from the usual, but the mains were shallow, über-TSTL, and I kept wishing they'd just get eaten already so the book could end. It was a shame that the more interesting secondary characters kept dying and we get stuck with these drips. So let's get into my big reason for why this didn't get to be a 2-3 start \"eh, it was fine\" story for me: apparently Petersen is really fatphobic and unapologetic about it in her writing. This story is ten years old, it's possible she's evolved since then and her pov has changed. But. It is a lot. A. Freakin'. Lot. of fat hate in here for such a short story.Every character Sarah doesn't like in the beginning? All three, fat men. Fat men whose stomachs she has to describe in great detail. Fat men whose health and routines she makes assumptions about. Fat men with poor hygiene. Fat men she describes as constantly burping and farting. Fat men who can't keep a clean house, who have disgusting takeout containers strewn all over their floors. Fat men who need a cart to take a bag of garbage out. Fat men who leer at her—though, EVERY man in this book she interacts with apparently can't stop checking her out: gag. Later on, she describes one of those fat men as \"smelled like sausage.\" High on her list of things she HATES about her spouse, David? He has a little tummy now, because...lazy and getting fat.That's not even all of it. Stares in Angry Fat Maybe leave all of your body hate and nastiness out of your writing, yeah? Every time I would just start to enjoy this story, Sarah was talking about some GROSS FATTY again and it killed any positive feelings I felt for this.If she wasn't commenting on FAT, then she was making mean comments about someone else's body. And nothing is sadder than a character who has to fill their bucket being shitty about and to other people. Worst way to get self-esteem.I tried. But this doesn't reinvent the wheel. The characters are flat as hell. The scenarios were flat and uninspired. And I kept waiting for the funny to happen. Where was the funny?Right. It was supposed to be bagging on other people's bodies—like the not funny at all leaking silicone bewbs on the \"ditsy\" receptionist. Gotcha.Show more\n",
      "\n",
      "\n",
      "This is the beginning of an excellent series. Can't wait to read more! Love the audio so much!  Our hero and heroine have reached that point of the marriage where all they seem to do is make each other angry. Instead of talking to each other about the minor stuff that escalated in their romance, they seek out the help of a professional. Good idea. I think everyone should go to therapy, some more than others. Myself included.  So on a quiet morning before their appointment, the world changes. Our couple discover this when they walk in on their therapist eating her clients. Pay your bill, folks.   This author does a brilliant job at writing fight scenes, and keeping the tension at just the right level. Excellent character development. I love that they continue to heal their marriage while fighting for their lives. Sometimes it just takes a Zombie Apocalypse to make people communicate. Which is lucky after what happened to their therapist. Show more\n",
      "\n",
      "\n",
      "A married couple that are on the verge of divorcing finding them self having to survive the zombie Apocalypse. Very interesting twist on the zombie story and I quite enjoyed it. Was a fun story to spend some time with, will probably read the next book soon, hopefully before Halloween ends\n",
      "\n",
      "\n",
      "Who would of thought a zombie breakout would save your marriage. But Sarah and David have that happen to them. They have been bickering for a long time over everything and trying marriage counseling for about six months. At their appointment things seem odd no secretary, doctor is running behind schedule and it is too quiet for the middle of the day. So they decide to knock on the door and see if everything is okay, which it isn't as the zombies have arrived and are quickly taking over Seattle. They make it home after taking a few zombies out along the way. They make a plan to head out of Seattle and make it to his sister's house in the suburbs. This is when the story gets funny ( yes it is about zombies which I dont think I have ever read) and they still have snarky moments at each other. This is turning out to be the best thing for their marriage. They start bonding over protecting themselves from the zombies, searching for supplies to survive and staying alive. There are quite a few LOL moments along with the reality that the zombies are taking over the world. I gave it a 4 not a 5 because the zombie took some people I wish could of been spared and one quick chapter was not needed. Show more\n",
      "\n",
      "\n",
      "What do you do when you can't get along with your spouse?Go to marriage counseling, of course!!But what happens when your marriage counselor decides that you are on the menu and limps on over for a taste?Ask for a lower rate?Tell her that this is breaking your confidentiality contract?Pop a mint?Hell noes!! You kill her!!!!The PlotSarah and Dave have been married for five years and are about to call it quits. They bicker all the time, they can't agree on anything, and just about every little thing makes them want to search for a divorce lawyer.... That is until a zombie plague infects Seattle.Now with team work they are learning to blow zombie brains apart, loot stores with the same grocery/weaponry list, keep an eye on each other's back in case a zombie hoard decides the other one looks tasty, and finally agree that their councilor might have been right.... They can overcome their differences if they just try.The FunnyI have to admit there were some major LOL moments in this book. One of them was in the very beginning that involved a smelly neighbor and death by toilet seat. I couldn't stop laughing at that one.Others involved a neighbor named AMANDA who reminded me of CANDY from TWO AND A HALF MEN. SHe was just so simple and fun to watch... I mean read.The couple bickering back and forth were really fun and if you have been married as long as I have (since '97) you will be able to relate and see the humor in everything. It was really fun to read.Urban Fantasy?I'm not sure about that? Sure there were guns and zombies and a couple of \"woah where did you come from?\" ninjas, but I don't know if I would call it Urban Fantasy. Maybe baby urban fantasy. They have yet to break out the spandex and leather. Kid approvedIf this was a movie, I think it would be or could be rated PG-13... but zomg... there is a ton of cussing in this book. I mean a ton!! So, it all depends on what you let your kid read. There isn't any ta-tas or tinky winkys. I think they say \"tits\" a couple of times but they are complaining about their slum lord.... but I don't know... I found the cussing really unnecessary. It amazes me how much women authors like to drop the F-bombZombie LoveI felt the zombies in this book were very well done. It was really fun when the couple started taking their zombie knowledge from zombie movies. I was waiting for them to look for twinkies, but maybe in the next book ;)OverallDefinitely a fun book and a great easy read to kick off the Zompacolypse Season.Remember!! Zompacolypse is coming!! (starting October 1st!!)http://paranormalwastelands.blogspot....Show more\n",
      "\n",
      "\n",
      "I feel like zombies just aren't scary anymore.I mean, in every zombie book, they start off scary and everything is tense and people are dying and the phones are down and the news is freaking out and there is craziness, and it's awesome. But so far, in all the ones I have read, it just becomes normal after awhile. Within the span of 48 hours the protagonists become adept with their weaponry of choice and they can kill a zombie in the middle of their lunch break or without breaking their conversation. And at that point the books get really boring for me. Unless they focus on the good post-apocalyptic stuff I like, but they hardly ever do.I mean, I don't want them to be really good at fighting the zombies, and I don't want the zombies to only be scary if they come in massive amounts or if they have special powers like Resident Evil. I don't want them to become silly, kind of cute bumbling dead people who are easy to kill. Unless it's a comedy.So, since this is a romantic comedy, I can give it a pass on that whole rant up there. I really wish it was scarier, but that's not this book, that's a different book. This is a fun book. The characters are easy to like (but pretty flat), the narrative moves along at a fast pace and there is a nice humor about it.The romance was kind of silly to me. They barely seemed like a couple on the verge of divorce before this happened. They are too nice to each other the whole time. They reconcile too quickly for me. There aren't even any good sex scenes. Also, I disliked the way the \"relationship advice\" at the top of the chapters spoiled each and every chapter. Could've just read those and inferred the rest of the book.Solidly three stars for me. I would definitely read the sequel, on an airplane or a car trip or something like that.This entire review has been hidden because of spoilers.Show full review\n",
      "\n",
      "\n",
      "This was a brilliant book! I really loved the zombies, the couple (and their bickering and how they turned out to be a better couple because, gasp, zombies! (and killing them)), it was a really action-packed story, with a lot of comedy. I had a few times that I wanted to cry though, when they lost people who they cared about.The chapter openers were hilarious and I laughed out loud a few times. :) Thanks so much Gisbelle for recommending this book to me. Show more\n",
      "\n",
      "\n",
      "2nd read 5 years later: This is still one of my favorite zombie books ever. I'm excited that I have the other 2 books so I can finish this trilogy. Perfect combo of zombie horror and romantic comedy.Show more\n",
      "\n",
      "\n",
      "Why hasn't this book been turned into a movie yet?\"Married With Zombies\" is a delightful blend of comedy, romance, and survival horror. The story follows a couple grappling with marital issues who find themselves thrust into a zombie apocalypse during a routine counseling session.The book strikes a perfect balance between humor and tension, with witty dialogue and clever nods to classic zombie lore. I particularly enjoyed the chapter introductions, reminiscent of the rules from 'Zombieland,' which added an extra layer of fun to the reading experience.What sets this book apart is its relatable protagonists. Unlike many survival tales, the couple possesses no special abilities or plot armor—they're just regular people trying to navigate the chaos around them. Despite the high stakes, the narrative never feels overwhelming, keeping the reader engaged from start to finish!!!I found myself unable to put the book down, eagerly turning pages to see what would happen next. And the promise of a trilogy has me counting down the days until the next installment. Plus, the clever easter egg on the final page left me eagerly anticipating what's to come.Overall, \"Married With Zombies\" is a refreshingly unique take on the zombie genre that left me hungry for more. Can't wait to read the next book of this trilogy!!!Show more\n",
      "\n",
      "\n",
      "This was pretty fun to read; it’s not easy to pull off a comedy/romance/zombie apocalypse story. Thanks to Lacey for lending me this; I enjoyed it a lot more than the last Zombie book she lent me! 😉\n",
      "\n",
      "\n",
      "Review courtesy of Dark Faerie TalesQuick &amp; Dirty: Fun-filled zombie hunting therapy… need I say more?Opening Sentence: David and I became warriors in the zombie plague on the first day, but don’t think that means we were front line soldiers or something.The Review:There are so many self-help books out there that they have their own section in bookstores. But how many couple self-help books use zombie killing to strengthen a marriage? This is the best book idea, EVER!David and Sarah’s marriage is in trouble. Like most couples, they have sought professional help to work out their marital issues. Unfortunately in this particular session, their therapist seems more interested in eating their brains than talking through their feelings. A plaque has broken out in Seattle that makes people act like zombies. It’s hard to harp on your partner never doing the dishes if you have to dodge becoming the undead. Kind of puts petty differences and complaints in perspective, doesn’t it? David and Sarah may have their problems but they make a great zombie killing team. And while they still don’t have the most perfect marriage, they are a lot more understanding of each other. Who knew a zombie outbreak could be so beneficial to struggling marriages?When zombies are real and your friends and family are out to eat you, where do you go for information on keeping yourself safe? It’s not like there is a course on this sort of thing at the local community college. Our heroes are forced to rely on less credible sources, like movies and stories. Of course, there is also the time honored tradition of “on the job training.” David and Sarah use a more trial-and-error method, finding weaknesses and trying out more “unique” weapons than just plain old guns. The longer they work together toward a common goal, surviving, the better they get along. I guess there is something to couples having a hobby they both can enjoy.The self-help format of Married with Zombies is as unique as it is hilarious. Each chapter starts with a helpful zombie/marriage saying and then the story provides the example supporting it. Anyone who has read a self help book can recognize the style, if not the content. What this book offers is something far more entertaining though. Let’s face it, if a zombie outbreak did happen, it would happen at the most inconvenient time and we as people would have to improvise. I love how this book provides the comedy in times of crisis, both personal and global.Overall, I think that this book is zombie-licious! There was action, suspense, and relationship tension with a humorous angle. David and Sarah’s journey offers several different reactions to the crisis that gives a sense of realism to the fantasy. I would recommend adding this book to your zombie apocalypse preparation kit.Notable Scene:“Run!” Dave whispered. “Go, go, go!”I shook off my surprise and started booking it across the parking lot again. One of the zombies broke toward us and caught up to us pretty easily since we were slowed down by Dave’s injury. I pushed my husband behind me and did the thing you always see at some point in zombie movies.I went kung fu on his zombie ass.I sucked at it, too. The thing they don’t tell you in all the zombie movies is that zombies are a bit… squishy. If you think about it, it makes perfect sense. They are the living dead, after all, and their flesh is rotting away slowly but surely.So when the first zombie reached us I did a straight kick into his abdomen. I expected him to fly backward a la The Matrix, but instead my foot sank into his flesh, almost like it was landing in really squishy quicksand.Living with the Dead Series:1. Married With Zombies2. Flip This Zombie3. Eat Slay LoveFTC Advisory: Orbit graciously provided me with a copy of Married With Zombies. No goody bags, sponsorships, “material connections,” or bribes were exchanged for my review. The only payment received came in the form of hugs and kisses from my little boys.Show more\n",
      "\n",
      "\n",
      "Only 3 stars because the ending was unsatisfying and lazy. However, if you want a really good laugh, and you like to read books that happen in your city, Seattle - then read away!\n",
      "\n",
      "\n",
      "I’ve said it before and I’ll say it again – I like zombie books so when I saw this available at BookExpo America, I picked it up right away. Many don’t share my opinion – or at least don’t like it when the hero or heroine is a zombie. I mean, if vital parts fall off, the romance is kind of over, yes? But Married With Zombies gives us two very mortal protagonists in the midst of a bad marriage and a zombie uprising.The book starts off very cute when David and Sarah walk into their marriage counseling appointment, only see their therapist eating her previous clients. Their first thought is it must be some kind of biochemical disaster…but as they make their way, very carefully back to their apartment, and are attacked by more flesh hungry undead humans, the “Z” word starts to sink in.This book is light-hearted, but with so many gruesome, violent parts – which is why I love zombie books so much. What other kind of book can make you laugh as the heroine finds a zombie in her bathroom and is forced to pound the zombie’s head with a toilet lid? And then you are totally grossed out as bits and pieces of his flesh and blood are stuck to Sarah’s shirt. Even better, after she kills the zombie, she still has to pee of course! I had to laugh when she looked at herself in the mirror too:With a groan, I leaned closer to the mirror to examine myself. My hair which is normally a light brown, was caked with blood so that it had a ruddy hue. To be honest, it wasn’t a bad color for me. If we ever had money again, I figured maybe I’d dye it a similar shade.Although at times I think Sarah and David laughed or joked when panic should have been their foremost thought – I did enjoy the humor in this book. My one disappointment is a lot of the events that occur were expected. David and Sarah decide to make a run for it out of town accompanied by their ditzy neighbor. They are low on food, they forget to check how much gas they have. Things happen with the neighbor that are predictable. But the ending did surprise me, and leaves it wide open for more zombie fun in the future.Married With Zombies is a quick, light-hearted, gruesome book which turns out to be a fun read.Rating: 3.5/5Show more\n",
      "\n",
      "\n",
      "I stumbled upon Married With Zombies by chance and am so glad I did! While I do like zombies (just not when their hungry for my brains), my best friend is much more of a zombie fan than myself. But after reading the description for Married With Zombies, I was very curious to begin reading. I told myself I’d read two chapters a night before bed, that quickly became 4+ on some nights. Over half of the chapters leave you wanting to know what happens next. So what’s so great about Married With Zombies you ask? Well here we go….It’s hard to imagine a couple saying the best thing that happened to them is the zombie Apocalypse. But for Sarah and David, that’s just the case. On the brink of a divorce and the not-so-happily-married couple is in therapy trying to solve their problems when the zombie outbreak occurs.Soon enough Sarah and David realize they are the only person each other can count on for support and survival. Together they learn the best ways to kill zombies, who to trust and more. Between loading shot gun shells and slamming into abandoned cars on the freeway the two begin to mend their failing marriage. Life in zombie world is not easy and the two lose friends along the way. They also start to realize just how crazy the world is becoming. But Sarah and David have each other and not to mention the constant comic relief (as Sarah points out, who wouldn’t want to take out some anger on the marriage counselor who was over charging them?). Married With Zombies is a must read for any zombie fan (whether die hard or just curious). You’ll find yourself laughing with Sarah and David one moment then anxiously flipping pages the next to see if they make it through okay. I’m currently reading the sequel, Flip This Zombie. Jesse Petersen is quickly becoming one of my favorite authors. And all I can say is if a network is looking for a show to compete with The Walking Dead, Sarah and David’s story would make for a great TV show.Book Rating: 10/10Show more\n",
      "\n",
      "\n",
      "For me, nothing says Happy Holidays like getting stuck into some good ol' zombie fiction. So when I received this book the other day, I couldn't resist it. I got stuck into it right away and couldn't stop reading...Sarah and David's marriage hasn't been good for a while now. Actually, they've been going to marriage counselling for six months already, but it doesn't seem to be making much of a difference. They're always bickering, and just can't seem to spend a single moment together without resentment taking over.Yet, the day they head into the city for their latest appointment and find their therapist eating the couple before them, they're thrust into the middle of a zombie apocalypse. All of sudden, everywhere they turn, there's a zombie or two (sometimes even much more) and the survival and teamwork skills they didn't know they had in common, kick into gear.Together, Sarah and David decide to get out of Seattle and head for his sister's place. However, along the way they find themselves in one horrible situation after another, constantly having to kick zombie ass (or blow zombie heads off), while finding out that depending and trusting each other isn't as bad as they thought it would be.I absolutely LOVED this book. It was funny, sharp, interesting, and had a LOT of zombie goodness in it. I also enjoyed the thick tension, as I kept wondering who was going to get bitten next. It's also got one of my fave things in zombie stories--humans behaving badly. This one's a keeper! And lucky for me, I've already ordered the next book. Can't wait to get my teeth stuck into that one too. No pun intended!Show more\n",
      "\n",
      "\n",
      "Great re-read! I love David and Sarah. I can't believe how good this was. I took a chance since it was on sale and has been on my wish list for a while. Dave and Sarah show up for marriage counseling to find their therapist eating one of the patient couples. They work together to kill her and the secretary in order to escape. There are definitely some amusing moments as they argue and struggle to save their relationship while on the run. It's not all silly though, I like Sarah and David; together and separately. I loved seeing how their relationship changed during the chaos. Lots of zombie action. Engaging the entire way through. Short fun read.Show more\n",
      "\n",
      "\n",
      "\"The zombie plague saved my marriage. And if you follow the rules, have each others backs and stick together... it could save yours, too.\"Finally finished this bad boy a year and a half after I started it! Married With Zombies has been the mass-market paperback I keep in my backpack at all times for emergency reading purposes in waiting rooms or long lineups, and it was honestly perfect for that purpose. The plot is very simple and straight-forward, and each chapter reads as something a little more episodic, so I could go months between chapters without forgetting what the book was about.That being said, I don't think I would've enjoyed reading this book as a sitting down, using my reading session time up sort of thing. Again, Married With Zombies is the most basic sort of zombie apocalypse book out there: it's all about a couple whose marriage is on the rocks fighting their way through the first three days of a zombie apocalypse, encountering wild survivors and dealing with having to make supply runs. It reads like filler episodes of The Walking Dead, which makes for a fun read, but not a particularly deep or enticing one. Something I like about zombie books/shows/movies is really getting into what it means to be human, and what humans will do with completely free rein. Are we intrinsically kind, or power-hungry? In life-or-death situations with no government to police you, what would you do for your fellow man? Can we rebuild a functional society from scratch? How do we cope with the finality of death when the dead are rising? What does that mean for our belief systems? A lot of these themes are very, very briefly touched on in Married With Zombies, but it mostly just focuses on Sarah and David trying to fix their failing marriage in the setting of a zombie apocalypse. This book wasn't exactly a thought-provoking thing or particularly unique in any way, but it was a fun little zombie read that was really easy to pick up and put down at random times throughout the year. Might pick up the sequel if I come across it at a thrift shop!Show more\n",
      "\n",
      "\n",
      "3.5* rounded upSarah and David are on the verge of divorce. Than an outbreak happens. They arrive to their therapy appointment and find their therapist eating the couple who had the appointment before theirs. Who then tries to eat them.I needed this book (I was reading this while reading another book)! This was funny, but after awhile their bickering got on my nerves. I also really didn't understand why Sarah married David in the first place. By all accounts, she gave up things because he wanted to do things, but then didn't. And when she then wanted to do things, he didn't want her to, so she didn't. She was the breadwinner and he did ???? So, I had a hard time liking David.Even so, it had a way of working out.Show more\n",
      "\n",
      "\n",
      "This one was just ok for me. The petty bickering at the start drove me nuts. I could see why David and Sarah's marriage was in trouble. By battling zombies they seemed to find their way back to each other inept as they were. At times it was surprising that they managed to make it through themselves.\n",
      "\n",
      "\n",
      "Terrible. I loved it. \n",
      "\n",
      "\n",
      "Rating 3.5 starsSo instead of a divorce how about zombies. What a crazy way to try and fixed a marriage or is it? LOL It was a fun story. Curious as to how they'll continue. \n",
      "\n",
      "\n",
      "Sarah and David's marriage is on the rocks. Pretty much everything they do annoys the other, and resentment is building, especially on Sarah's side. She's also shelling out hundreds of dollars so they can see a marriage counsellor, Dr Kelly. As they make their way to her office one fateful Wednesday - 10th August 2010, to be exact - Sarah does notice that there's not much traffic on the road, and she does think it unusual that the security guard at the parking garage, Mack, is absent from his usual spot. But even when they find that Candy, Dr Kelly's receptionist, has also left her desk, naturally they don't jump to any outrageous conclusions - like, say, they've all been turned into zombies. Instead, they open the door to Dr Kelly's office and find the skinny blonde woman in stilettos, busily munching away on the couple she sees before them.After such a sudden, shocking introduction to the new state of the world - or the Seattle CBD, at least - David and Sarah have to fight for their lives, several times, in their desperate quest to flee the city. The plague - believed to have started in a science lab at the university - is moving faster than they can fathom, and with the transition to zombie occurring in ten to twenty minutes, it only takes about 24 hours for Seattle to be overrun with zombies. Sarah and David have a vague plan to make for David's sister's place in the country, but first they have to get out of Seattle with their lives (and bodies) intact - and maybe their marriage, too.I am honestly not a fan of zombies or zombie stories, I'll say that right here. I've seen just a few movies (Shaun of the Dead, 28 Days Later, that one with Sarah Polley, can't remember what else...) and only read about five or so books - the movies make me scared in a not-fun way, and the books tend to bore me (the zombie parts of them, anyway). Because zombies are boring. They have no brains, no minds. No feelings or intellect. You can't talk to them. They're possessed with a drive to consume living human flesh. They're rotting. You can't have a zombie protagonist, not the horror kind of zombie anyway (Dearly, Departed did an interesting thing with that dilemma, and I'm looking forward to reading Warm Bodies which has a zombie protagonist). They're scary in the sense that it doesn't take long before there are no people left, and there's nowhere to go. There's also that sense that you can't win, and futility is just depressing.And then we have Married With Zombies, which is a formulaic zombie story made entertaining by the humour, and exciting by all the near-misses the couple have. The chapter headings - combining marriage counselling advice with living in a zombie-apocalypse - are very funny and give you a good idea of what's coming up in that chapter: \"Never go to bed angry. Terrified is okay.\" \"Make requests, not demands. 'Please' kill that zombie, honey, I'm out of bullets.\" \"Address one issue at a time. You can't load gasoline, pick up food, AND kill fifteen zombies all at once.\" \"Find creative ways to have fun together. Looting is really underrated.\"Interestingly, I don't always do well with \"funny\" books, either - the humour can sound too forced or like it's trying too hard, in some books. Thankfully, Petersen actually made me laugh several times, and that made me enjoy this particular zombie book. Even without an extensive background in zombie stories, I could recognise all the tropes and feel myself on very familiar ground. But Sarah's voice was refreshing and gave me a giggle more than once:Dave continued to stare at the mangled body on the bathroom floor, which was pooling with blood and mung now.\"So you killed him with what now?\"\"I tried that Dr. Phil book at first,\" I sighed as I looked at the offending tome, lying next to Jack's lifeless body, its pages caked with fluids and unidentifiable mush. \"And I finished off with the toilet seat. Just so you know, you left it up again. That drives me crazy.\" [p.33]With so much emphasis on survival, the couple did slide into the background at times - as people, that is. What I mean is, while they mention the problems with their marriage throughout the book, I never felt like I really got to know them, personally. We learn that David had been doing another degree and then dropped out to rethink his life, leaving Sarah to work longer hours to earn the money for all their bills. But mentioning it is about as far as it goes. Sarah seems able to move on from all the things that were making their marriage unbearable, relatively easily - sure, zombie crisis and all, and it wasn't unrealistic per se, just a bit too simplified for me. The story does touch upon the different ways people react in a crisis, and how we each have our own sense of logic which can put us at odds with one another. This was a very fun read, and while I'm still not a fan of zombie stories, I'm glad I had a positive experience for once!Show more\n",
      "\n",
      "\n",
      "J’attendais assez impatiemment de lire ce livre alors que sa sortie avait été annoncée quelques mois auparavant. Je suis généralement assez fan des films de zombies (28 jours plus tard reste mon préféré) et j’espérais que Zombie Thérapie saurait me plaire.Autant le dire tout de suite, même si ce livre n’est pas un must read, il a su relever le défi haut la main. Dans Zombie Thérapie, Jesse Petersen reprend assez simplement la trame des films de zombies les plus populaires : une épidémie est déclenchée, elle se répand à une vitesse vertigineuse, les héros se retrouvent rapidement seuls contre tous et décident de quitter les zones infestées dans l’espoir de trouver de l’aide. C’est classique mais ça marche presque à tous les coups. J’en attendais un peu plus de ce roman, Jesse Petersen ne m’a pas déçu grâce à la touche personnelle qu’elle a su insuffler à cette trame conventionnelle.Dans Zombie Thérapie, l’auteur a su mêler une intrigue sentimentale au classique scénario de zombies. Sarah et David forment un couple en difficulté dont le mariage part à veau l’eau. En plus de sauver leur peau, nos deux personnages doivent aussi sauver leur histoire, retrouver chez l’autre ce qu’ils aimaient, etc.Raconté comme ça, ce n’est pas particulièrement passionnant. Mais c’est parce que je n’ai pas encore parlé de ce qui rend ce roman encore plus sympa : l’humour ! David et Sarah font face à leur nouvelle situation avec un détachement et un humour quasi permanent, tournent en dérision la plupart des évènements traumatisants et font preuve d’un sacré tempérament. Bref, c’est la rigolade assurée !Avec cet aspect humoristique, l’auteur transforme son scénario en une espèce de satire du genre, un peu comme Wes Craven a tourné en dérision le slasher movie avec Scream. Mais en plus fun.En bref, Zombie Thérapie est un roman léger et divertissant — comme on aime en lire de temps en temps — qui reprend avec humour et brio les codes du scénario de zombies.Show more\n",
      "\n",
      "\n",
      "While driving to their weekly marriage counseling appointment, Sarah and David notice things are a bit unusual. There's little or no traffic in downtown Seattle, the parking lot attendant has vanished and their therapist is running late and gnawing on her previous appointment.Turns out the zombie apocalypse has happened thanks to a fast-spreading virus that converts the bitten into zombies within ten to twenty minutes of exposure. Thanks to their mutual love of zombie films, Sarah and David are able to survive wave after wave of attack, all while working out their marital problems (turns out that the zombie apocalypse is far more effective than therapy...who knew?) and figuring out their next move.It's official that zombies are now the next big thing in publishing. And while they're not quite as sparkly as vampires, the brain eating undead are certainly making quite a march onto the shelves, with varying degrees of success. In the column of zombies really working in the context of a story and adding something to it, I'd put up \"Feed\" or \"Boneshaker.\" Then on the other end, you've got \"Married with Zombies\" where the role of the undead is being played for laughs. At some points in the story, it works well. But clocking in at just over 200 pages, \"Married with Zombies\" feels longer than that. Another reviewer pointed out that the book quickly falls into a pattern of find supplies, get attacked, fight it off and retreat over and over again. And it's not hard to argue with that. We're treated to first-person narration from Sarah, who does get in a few one-liners and zingers that do work well. But one-liners and zingers do not a complete story make. In many ways, \"Married with Zombies\" has that feeling of a Saturday Night Live skit that starts off clever at first, but slowly becomes less and less enjoyable the longer the central concept is stretched out. The initial fun of a brain eating therapist and a marriage on the rocks becomes a bit less interesting once we come across a crazy cult of religious nuts who believe the zombie uprising in book of Revelation come to life.And yet, I still enjoyed the book enough to be curious to see where things go next. Part of this could be that the relationship and ups and downs of Sarah and David intrigued me enough to see what happens next to them. And part of it could be that the hook that comes in the final pages is just interesting enough that I wouldn't necessarily mind spending another 200 or so pages with this couple. You'll be rooting for these crazy kids to survive--not only the zombies but each other. Show more\n",
      "\n",
      "\n",
      "Summary:Sarah and David are your typical American couple with troubles in their relationship, but what's not typical is what they're about to endure: A zombie apocalypse started by an experiment gone awry at a university. Can these two put aside their \"irreconcilable differences\" to get out of the city alive? This is a charming tale with an awesome, strong female protagonist who is remarkably much better than her husband at zombie-killing!Review:A disclosure: I am both a romantic and a zombie-lover, so this book was really a perfect fit for me. I finished Married with Zombies in a little over 3 hours: That's a testament to two things. One, that it's a pretty short book (regrettably) and two, it's insanely good. The book has the \"typical\" zombie that's killed by headshots only, turns a victim in a few minutes, and is a cross between the Romero \"slow\" zombie and the 28 Days Later \"wicked fast zombie.\" The zombies are awkward/clumsy but are capable of bursts of high speed. But let's face it, this book is way less about the zombies and way more about a couple that has fallen out of love learning to love again through a common bond: Zombie hunting.And it does it well, very well. It's often said that a couple, any couple, regardless of marital status, will have a hard time existing without strong common bonds. Author Jesse Petersen emphasizes Sarah and David's problems by setting the first zombie encounter in a very unusual place: The marriage counselor's office. They are confronted by Dr. Kelly, their marriage therapist, busily eating one of her clients.They take off from the office and from there on out, it's a fight of survival and ingenuity as the duo struggles to escape the metropolitan Seattle and reach some form of safety. But the age-old question of zombie apocalypses is: Where is safe and what is safety? After a run-in with some religious fanatics in a run-down Casino as they are on their \"road trip\", Sarah and David are left with some unanswered questions but have had some questions answered, specifically about their relationship. New talents and new desires have been unearthed and they are sharing much more of their lives post-zombie than when the zombies had not been ravaging the world.This book is familiar enough to make you happy and also different enough from other zombie books to warrant the quick read, especially if you, like me, want to see a little deeper character study of just what it'd be like during a zombie apocalypse than what other books and movies have offered to us of late. The humor is witty and is what you'd expect from a married couple trading barbs, and the barbs are perfectly zombie-related! Show more\n",
      "\n",
      "\n",
      "A heartwarming tale of terror in the middle of the zombie apocalypse.Meet Sarah and David.Once upon a time they met and fell in love. But now they're ...more A heartwarming tale of terror in the middle of the zombie apocalypse.Meet Sarah and David.Once upon a time they met and fell in love. But now they're on the verge of divorce and going to couples' counseling. On a routine trip to their counselor, they notice a few odd things - the lack of cars on the highway, the missing security guard, and the fact that their counselor, Dr. Kelly, is ripping out her previous client's throat.Meet the Zombies.Now, Sarah and David are fighting for survival in the middle of the zombie apocalypse. But, just because there are zombies, doesn't mean your other problems go away. If the zombies don't eat their brains, they might just kill each other. Cover BlurbI love the cover of this book! It really stood out and potrays the theme of this story very well.I also enjoyed all the fun chapter titles:\"Put the small stuf in perspective. It's better to be wrong and alive than right and eating brains\"\"Make requests, not demands. \"please\" kill that zombie,honey, I'm out of bullets.\"The action starts right away. Sarah and David are off to their threrapy apointment. The signs of the zombie apocalypse are there: lack of traffic on the freeways, an empty guard desk, their therapist eating her 4 oclock clients! I love the humor and zombie action Jesse has in this book. The narration is mostly told from Sarah's point of view. The two of them return home after the horrific events at the office and began to plan what to do next. Saddled with their ditzy neighbor and an unexpected cache of weapons they hit the road to connect with David's family. Jesse really masters the interplay between David and Sarah, those little things that can drive a wife and a husband crazy.  Sarah has lots of resentment about David's unemployment and his general reluctance towards the therapy that she has to pay for. The zombie apocalypse forces them to work together as a couple and learn new facets of each others personality.This books has all the elements of a great romantic comedy and is a quick fun read. The Cover has a Chicklit appeal that may draw new readers but their is a lot of great elements in this book for Horror adn Zombie fans as well. I especially like how Jesse's zombies retain their intelligence for a longer period than traditional zombies, it makes for terrifying suprises. I look forward to the next book in the series!Show more\n",
      "\n",
      "\n",
      "Sarah and Dave are attending marriage counseling to try and save their doomed relationship – not that it’s helping very much. But who would have thought that saving their marriage, would mean killing their marriage counselor?To be fair, the counselor was trying to eat them at the time. A zombie outbreak has come to Seattle and before long, they’re outnumbering the living people. Faced with the shock of what has happened and then the desperate need to flee the city, Sarah and Dave have to come together as they never have before, as they scramble to survive, and try to find somewhere that is safe – or at least get out of the city and its hordes of the undead. Assuming, of course, that anywhere is safe as zombies spread further and further across the west coastOf course, marital problems don’t just disappear – but there are few greater bonding experiences than covering each other with stolen shotguns, as you try to survive the zombie hordes.I did not expect this book to be nearly as funny as it was. After all, it’s a book about a zombie apocalypse. You expect fear and horror and loss and grief – you expect people to find out what they are capable of and the extremes of evil people can be pushed to in a crisis – and even the extremes of evil they will indulge in when they feel there is no-one to stop them. You expect to see people grow and develop as they learn what they are capable of an the extremeAnd we have all of that. We have loss; we have some truly poignant scenes of loss and grief as they confront family and friends who die to the zombies – or who need killing before they turn into zombies. We have growth as they both step up to the necessities of a zombie infested world. We have hard choices as they have to choose what to do to be safe, as they lose people, as they have to leave people behind. In short, we have all the themes and epic moments and emotional moments you’d expect from a zombie apocalypse book.Read MoreShow more\n",
      "\n",
      "\n",
      "Overall score: 100000000 amazing stars!!!OMGGGGG! I absolutely freaking loved this!! Sarah and David are a couple that's on the point of getting a divorce. Everything about each other irritates them, they argue non-stop and have been seeing a therapist for six months in hopes of recovering their marriage. \n",
      "\n",
      "One day on their way to therapist's they noticed that there is barely any traffic and not a lot of people in sight. After they get into the office, the next thing they know is their therapist trying to eat them! Once they bashed her head in with her own heel, they needed to figure out a way to escape the craziness without getting eaten alive while trying to put up with each other and learn how to work as a team. \n",
      "\n",
      "Arrrrrrrrrrrhhhhhhhhhh!! I don't know why I loved this book so much but I seriously did! I think it was mostly because I was listening it on audible and the performance was amazing! Since the book was written with Sarah being the narrator, it was hilarious! I cannot wait to read/listen to the second book and continue with this series! \n",
      "“So you killed him with what now?\"\"I tried that Dr. Phil book at first\"...\"And I finished it off with the toilet seat. Just so you know, you left it up again. That drives me crazy.”\n",
      "❤❤❤❤❤❤❤❤❤❤❤❤❤❤❤❤❤❤❤❤❤❤❤❤❤❤❤❤❤Show more\n",
      "\n",
      "\n",
      "Rating: 3.8 starsAhhh, where do I begin?Okay, so I have a couple of firsts with this book that's why I think 4 stars is worthy although my actual rating is 3.8:1. I've been in my first extreme reading slump recently and it felt like no book could ever snap me out of it. So here I was, scrolling through my goodreads feed and wallowing in envy as I read about my friends' reviews about amazing books, etc. etc. Got so bored I'd sign in and out to pass time until one fateful moment where I'd let my eyes focus on this book on the goodreads...homepage? whatever it's called. And the succeeding hours were spent reading this lovely.2. The protagonists were a married couple and I'm not sure if I'd enjoy it. Spoiler: I did. (I've read one about marriage before but turns out the husband was a closeted gay and of course it has a totally different setting and view on marriage)3. A plot that's swarming with undead, which terrifies me fair enough. I usually avoid these types at all cost, being jumpy, scaredy cat and the type of girl who'd manage to watch the whole effing zombie movie peeping through her fingers. Blame it on the sound effects, I guess? Good thing this book wasn't scary at all! But the scenes aren't any better, what with all the full narrative report on tissues, muscles, brain parts and all sorts of eww stuff.Still got me out of the hellish slump, though! This is so entertaining, it can't be put down as disgusting as it is.Show more\n",
      "\n",
      "\n",
      "I haven't had this much fun reading a book in a very long time. This is a terrific story that kept me laughing right until the ending, and the extra sectioin as well.As we pick up the story, David and Sarah, who have been married only 5 years, are going to their weekly marriage counseling appointment. Once there they are met by the gruesome sight of Dr. Erica Kelly, their therapist, eating the couple before them the hated Wilson's. In a scene taken from Shaun of the Dead, David kills Dr Kelly with her own shoe! Sarah and David soon find themselves as one of the few survivors of the Zombie apocalypse and running for their lives. Well, running, shooting and killing zombies, and running into a cult that wants them to help make babies to repopulate the world at a casino of all places!And this is just the start of Sarah and David's adventures. For a couple that was on the road to divorce, their new endeavor, Zombiebusters, saves their relationship. The only thing they can't seem to do right, however, is keep people around them alive and unharmed from the zombie infestation.If you've watched the movies Zombieland, Shaun of the Dead, and Scooby-Doo on Zombie Island, then you will love this book. There are plenty of laughs as well as hairy moments, and one part where I actually found my self grabbing for a tissue.Next book in series: Flip this Zombie Show more\n",
      "\n",
      "\n",
      "What does \"Married with Zombies\" and a reanimated corpse have in common? They both stink. David and Sarah's marriage is failing and right when they are on the brink of divorce the zombie apocalypse breaks out. Will the struggle to survive mend their marriage? It's a cute concept of chick lit meets horror. But Ms. Petersen's fails to deliver. David and Sarah aren't likable. Not once did I root for them or their marriage to make it. David is your typical man-child who is more interested in video games then working. And Sarah comes off as over critical and bitchy. They both would have made more interesting zombies then main characters. Sarah is also our narrator and Ms. Peterson allows her to break the 4th wall often enough to draw the reader out of the action. In an attempt to add some chick lit flavor to the book she uses kitschy chapter titles and word usage. It feels as if she is trying way too hard to be clever. Finally I sincerely hope that Ms. Petersen consults a thesaurus for her next novel. She used whine and whiney so often to describe her zombies that I became to wonder if we were dealing with the living dead or tired over-stimulated three year olds. Granted I have met some rabid three year olds but they usually don't dine on people.Show more\n",
      "\n",
      "\n",
      "\"Put the small stuff into perspective. It's better to be wrong and alive than right and eating brains.\"This one was so much fun! On the way to a marriage counseling appointment where they are trying, possibly unsuccessfully, to save their marriage, Sarah and David are faced not with an hour of blaming and horrible arguing but by their therapist....eating her previous couple in therapy! After helping them...um, go from undead to really dead, David and Sarah realize things are really wrong around here. Heading home, they don't find any better news. But as each situation becomes life and death and each argument seems to mean less and less, they starting learning to work together as they try to figure out what has gone on in Seattle, WA and why these walking dead are here.I loved the humor mixed in with the horror of the running/roaming and attacking undead. I thought Sarah and her anger and David and his guilt as his mistakes were all well done and their arguments were realistic and full of profanity and blame. It was fun to read as they traveled and what they ran in to. The story was quick and I enjoyed it! If I can find the next book in the series, I'd definitely love to read it! I also really loved the marriage advice at the start of every chapter!Show more\n",
      "\n",
      "\n",
      "\"The Couple who Slays together , Stays Together\".Vampires, Werewolves, Angels move over and make way for Zombies. Zombies it seems is the new supernatural creature to create a buzz and Im not exactly sure why as it's not like Zombies have ever been portrayed as hot , sexy and seductive like Vampires or Werewolves. When I saw this title all I could think about was the hit show Married with Children but it has nothing whatsoever to do with that. Married with Zombies takes us into the life of David and Sarah whose marriage is on the verge of ending , so in order to try and save their marriage they have been attending Marriage Counselling with Dr. Kelly. What started as a normal therapy day ended with David and Sarah having to learn to work out their marriage problems in order to survive the Zombie Apocalypse. Not only is this book filled with how to survive a Zombie attack but the author has used Dating tips throughout the novel as Chapter titles and excerpts in the book.Married with Zombies is the perfect book for couples and those who are into the Living Dead :)Show more\n",
      "\n",
      "\n",
      "4.5What a funny book! The quotes at the start of each chapter were so funny! What do you do when your marriage is slowly going down the drain, you're currently seeing a marriage counselor, and then one day said marriage counselor tries to eat you? I guess you do what Sarah and David do, you become the zombie butt kicking couple! I thoroughly enjoyed this and I highly recommend it for anyone who's in the mood for a light, quick, and entertaining read. Don't let the zombies turn you off either, it's definitely more about Sarah and David then it is zombies. I will be picking up the next one real soon!Show more\n",
      "\n",
      "\n",
      "Je l'ai commencé l'an dernier en VO, et comme je n'étais pas in the mood je l'avais vite abandonné.Bien que l'issue soit archi prévisible, j'en suis restée stressée du début à la fin (moi pas aimer zombies !). Je crois que si une telle situation devait se produire je serais une des 1ères victimes...de crise cardiaque, tellement ça me fout les chocottes.Maintenant excusez moi, mais comme après l'excellentissime 28 jours plus tard, je vais aller vérifier s'il n'y a pas un monstre qui se cache sous mon lit ou dans mes armoires... x_XShow more\n",
      "\n",
      "\n",
      "I really liked the movie \"Shaun of the Dead\" and enjoy zombie comedy as well as the next zombie fan. When our angry, sarcasm-laden female lead killed a zombie with a toilet seat, however, I had to blink. When she went ahead and used the loo immediately afterwards, I nearly lost it. Not my lunch, but my desire to continue reading.I will try for a few more chapters, but if this tripe doesn't get better, this is going into the did-not-finish pile.Show more\n",
      "\n",
      "\n",
      "I enjoyed this book and I don't even like zombies! It's a light-hearted and funny romp where marriage guidance is mixed with zombie killing and the two big questions are will Sarah and David survive and will they stay married? Evil Editor had it as his book of the month and I think everyone who read it enjoyed it - which doesn't often happenShow more\n",
      "\n",
      "\n",
      "Great fun. Don't let the zombies get your brains. If you liked the film Zombieland, this is for you. I already read the second book of the series and it was so-so. This time around I liked two main characters much better. Classic plot -- outbreat, lots of gore, shooting, biting, brains and running. Don't expext any deep thoughts.\n",
      "\n",
      "\n",
      "3.5 stars bumped up because I did like the narrator.This one took me a while to get into and the characters aren't the easiest to like. They got better with time and I enjoyed the book more towards the end. there are ridiculously funny moments and truly it makes the zombie situation seem real. I was thinking about reading on, but I'm not sure if I will continue. Show more\n",
      "\n",
      "\n",
      "Freaking Hilarious.I love post-apocalyptic novels.I love zombies.Throw in a couple who uses marriage counselling to fight zombies and you've got a recipe for a really funny tale. Jesse Petersen definitely delivers. I'll be reading the rest of the series for sure!Show more\n",
      "\n",
      "\n",
      "A zombie book for girls! I loved it! The characters come together in a cute sort of way. \n",
      "\n",
      "\n",
      "Funniest book I've read in a while, laughing within the first 5 pages!! Can't wait for the next one!\n",
      "\n",
      "\n",
      "Structurally, this book is just what I was looking for. Single perspective, linear story, easy to read. Each chapter starts with brief marriage advice that the rest of the chapter follows. A cat briefly makes an appearance, just chilling because zombies aren't trying to eat cats. yay. The book spans a few days while Sarah and David flee the zombie infestation and head towards family 130 miles away. They make a few stops and meet a cute little kid zombie, a stripper nurse zombie, and a religious cult. Each of these scenes don't really impact the rest of the book, so they feel a bit like a filler episode.They do make some really dumb decisions (lets check out the casino while we're here; we should split up in this giant store). I think those were intentional to make the book more campy.I was hoping the zombies would be a bit more scary. Some of the zombies are actually playing the slot machines at the casino!I got the book on audible escape (aka romance package), but it's not really a romance. Compared to some of the more explicit sex scenes I've been skipping in other books, there's only one fade-to-black implied scene. Great for me, but probably not great for people expecting romance.Characters are walking stereotypes, but that's not a problem for me. The \"dumb cheerleader\" has the idea to act like zombies, and it was working well until David drops his keys and bends down to pick it up. Oops.Show more\n",
      "\n",
      "\n",
      "Married with Zombies is a peppy entry in what is slowly growing (almost absurdly) into a tiny subgenre—Zombie Apocalypse comedies... Now we have Hollow Kingdom, Pride and Prejudice and Zombies, cinematic entries like Shaun of the Dead, and Married with Zombies, and I'm sure I've missed a bunch.Petersen adopts a sort of deadpan crossed with absurdism approach to her subject. Characters get the hots for each other watching as they brutally dispatch the walking dead. They observe and judge the clothing and nail polish choices of the undead, etc. It's not exactly LOL territory for me, but it's fun, consistent, and well executed. There is a zombie survival story under the tongue-in-cheek veneer of this novel, and it's not a super light or happy one, but the writing is sufficiently punchy and well paced that the reader is not prompted to linger on the gory or ghastly details.Married with Zombies definitely isn't for everyone, but I had a lot of fun with it and am inspired to read the sequels, and I think many other readers would find it equally entertaining.Show more\n",
      "\n",
      "\n",
      "There is nothing quite like a zombie apocalypse to save a marriage in trouble. At least, that’s what Sarah and David discovered, after seeing their marriage counselor attacking another couple who definitely weren’t going to save their marriage. Or themselves. As Sarah and David unite against the zombies, they realize just how much they still care for each other. Now, if they can just protect themselves from roaming zombies, find a way to survive, locate other humans, and develops a plan that will facilitate a somewhat normal life, they might find out that they still love each other. Who knows? If the zombies don’t kill them, the zombies might just have saved their lives! Filled with equal parts of horror, suspense, and humor, this is pure entertainment from beginning to end. And a word to the wise: keep in touch with Sarah and David - you’ll want them close by. Just in case.Show more\n",
      "\n",
      "\n",
      "The title sounds like a comedy genre mashup. And it sort of is. It is the story of a young financially struggling middle-class couple living in Seattle and having marital issues when a zombie apocalypse breaks out and overshadows their personal problems. They turn out to be luckier and slightly more resourceful than most of the population of Seattle. The story is told from Sarah's point of view and her cynical and low opinion of other people turns out to be useful when it comes to dealing with an urban population that is more likely to be zombies than not.The zombie infection passes from person to person by bodily fluid via cuts and bites. Both the living and the recently dead become zombies. Zombies are always hungry for raw non-zombie human flesh, they move slowly, with no intelligence and being dismembered only slows them down. They are \"killed\" via severe head trauma (such as a gunshot or baseball bat).The horror tension is present in the early chapters but soon dissipates. The comedy is low-key, primarily residing in the descriptions of the weird situations Sarah and David find themselves in. As the zombies and encounters with them become more commonplace the humour also dissipates. The early descriptions hint at a laconic over-the-top type of comedic description but instead, other more serious themes are briefly introduced and then the book moves on.Beyond Sarah's cynical nature, she and David are non-descript characters and due to the nature of the story, other characters tend to be walk-on parts, limited to a chapter or two each.I would have enjoyed a more humourous approach to the subject matter.Show more\n",
      "\n",
      "\n",
      "Meet Sarah and David.What do two people who are on the verge of divorce do when they find their therapist eating someone in her office? Keep fighting, then stick together and kick some ass. I loved every second of this book. It was full of gore and full of laughs. If you are squeamish, do not read this while reading. I started this book this morning right after I started eating my breakfast. I didn't think it would bother me to hear the details, but I was wrong. Did I stop eating? No. Did I stop listening? Heck no. It was too good from the first page to stop. Show more\n",
      "\n",
      "\n",
      "I really enjoyed this comical horror story following a couple, David and Sarah, that is in couples therapy as they discover they are in a zombie-infected world by seeing their therapist tearing into someone's throat. They team up with their neighbor, an ex-cheerleader, until she is bitten. Then they run into a cult at a zombie-infected casino, and finally make it to Longview Portland where David's sister lives. There's a lot of humor, some horror, and some tears in this story.Show more\n",
      "\n",
      "\n",
      "Quick zombie story! Sarah and David have an appt for couples therapy and find their therapist has turned zombie! I didn't care for either character at the beginning but I almost liked them by the end of the story! 2.5 stars!\n",
      "\n",
      "\n",
      "I read this series when it first came out. I found it on audible and decided to listen as well. One of the few zombie comedies I have found. David and Sarah are a riot. On the verge of a divorce, the zombie apocalypse brought them closer than ever. \n",
      "\n",
      "\n",
      "Classic zombie tale. I’m not a huge fan of zombies, this was gifted to me, so I wouldn’t have picked this out to read. Short chapters so pretty easy to read. Interesting enough &amp; am a bit curious to see how their story progresses but not so curious that I’m gonna actively seek out the rest of the series. \n",
      "\n",
      "\n",
      "It's a fun little book that offered a distraction from more intense books waiting in my list. Kind of wish it was told from both main character's perspective but still enjoyable enough that I started book two.\n",
      "\n",
      "\n",
      "DNF @22%The audio is good and some of the story was entertaining. I just don't like zombie stories. This one didn't change my mind. If you enjoy zombies, this might be a good book for you.\n",
      "\n",
      "\n",
      "Original post at One More PageSo zombies. I think I've established enough in this blog that I love zombies. They're my favorite paranormal creatures, and despite the gore that is normally associated with them, I think they're a great plot device (hey, look I'm spouting NaNoWriMo terms already!). When I heard about Jesse Petersen's novel about a married couple who starts slaying zombies, I knew I just had to have it. Zombie + chick lit? Come on, it's a no-brainer for me. :PI think the common thing about all the zombie novels I've read and reviewed (The Forest of Hands and Teeth, The Dead Tossed Waves, Feed and \n",
      "Z\n",
      ") is they're all post-apocalyptic novels. The zombie apocalypse has happened, and I'm brought to a setting where I read about how the people coped, is coping and will cope with the reality that zombies are among the people. Some books are set early enough after the apocalypse that the characters still remember why and how the zombies rose, while others are set so far off into the future that no one really knows how the zombies came.What sets Married with Zombies apart from the other zombie novels (aside from the pink in the cover) is how it's set during the apocalypse instead of post. Everything was normal for David and Sarah up until their marriage counselor tried to eat them, and from there everything goes haywire. I find this setting quite creative because I've never read a zombie book that focused exactly on how people tried to survive as the zombies came. There's a certain sense of the unknown in this, and I got to see fresh terror and denial from the humans as they wrestled with this new and terrifying fact of life. I found myself rooting for the characters to survive because...well, who else is there to root for?However, that's pretty much what I found unique in this book. I think the real selling point of this book is not that it's a zombie novel, but the romance/chick lit aspect. Yeah, the chick lit aspect is there, but it's not the same chick lit aspect that I'm looking for in those I read. I think I agree with how other reviewers viewed Sarah -- she's kind of annoying. She did admit she was a Type-A person, but I never really felt much sympathy or connection with her. David seemed too much like the typical guy who turned out to be a hero, but I'm also kind of lukewarm to him. Come to think of it, I don't think I really connected with most of the characters here. Normally this is an issue for me, and it is kind of one here, but somehow I think the zombies managed to make it up for me.The love angle is kind of cheesy, really, and there's nothing too special about it. I am glad that they worked out their marriage even if it took a zombie apocalypse to mend their marriage. Which brings me to the point that a relationship will work out if you have a common goal. I'm not so sure how sound zombie busting is as a common goal will work, but well, I can suspend my disbelief.I think the most surprising part in this novel -- at least for me -- is the gore. For some reason, I felt extra queasy with this novel as I read it. There's so much blood and gore and guts and black sludge (ew) in this novel that I found myself grossed out for the first time in a zombie novel. Remembering it now is still kind of making me queasy. Eh.Overall, it's not a bad zombie book. It's not the best one either, but I'm still willing to give the second book, and maybe the third book a chance. I would love to read David's point of view, though -- I hope we read that in one of the future books?If you're a zombie fan and you don't mind reading something \"light\" in terms of this literature, go and pick up Married with Zombies. Don't expect to be wowed, but it could provide some mild entertainment. However, if you're just starting out in the zombie fad, I would recommend you to get other more established zombie books before moving to this one.Show more\n",
      "\n",
      "\n",
      "Originally Reviewed on The Book Smugglers: http://thebooksmugglers.com/2011/07/b...Married life for Sarah and David is anything but a picturesque, ideal union. After eight years of not-so-happily wedded bliss, their relationship is on the ropes, waiting for the knockout punch that culminates in divorce. Though the young couple has been attempting to work through their issues with marriage counseling, Sarah knows it’s just about time to throw in the towel (put it this way: when you start to google “divorce lawyers” on the shared home computer and notice that you don’t even have to type the whole phrase for it to pop up in your browser history, it’s not a good sign). On what turns out to be their last trip to their therapist’s office, the couple is too busy playing relationship stratego to notice the disaster of apocalyptic proportions happening around them. Only when they see their usually impeccable therapist, Dr. Kelly, covered in viscera whilst ravenously devouring the still-warm corpses of the Wilson couple do Sarah and David begin to suspect that the proverbial shit has hit the fan. But all is not lost! For even as civilization crumbles around the troubled couple, even as they find themselves fighting for survival against the undead horde, even as they stave off fellow survivors (including insane cultists and an adorably clueless former-cheerleader), Sarah and David inexplicably find that a zombie apocalypse is just what they needed to finally get those pesky marriage therapy techniques to work. Together, the couple discovers the key to rekindling their mutual affection: a few good melee weapons, some firearms, and the end of the world.A ZomRomCom in the manner of Shaun of the Dead, Married with Zombies is a compulsively readable, ridiculously fun novel. Narrated entirely from Sarah’s (hilarious) first-person perspective, this first novel in a planned zombie series might not have anything original to bring to the zombie dinner table – but it manages to sneak up on you and take you by surprise with its wry, potty-mouthed, absurdist sense of humor. I say take you by surprise, because from a pure plotting and worldbuilding perspective, Married with Zombies is pretty middle of the road zombie fare. Tropes abound (e.g. religious fanatics always rear their loony heads in apocalypses, and this novel is no exception), zombies are of the slow-moving, virus-escaped-from-a-laboratory variety, transmitted through biting/scratching, etc. And yet…there’s something irresistible about Married with Zombies. And that, my friends, lies with its characters and narrative voice.As anyone that has ever been in a long term relationship can attest to, things aren’t always ponies and rainbows when it comes to a significant other, and part of the magic of Married with Zombies is this wonderful mix of the relatable frustrations of coupledom blended with the disastrous outbreak of the zombie apocalypse. It’s the characters, Sarah and David in particular – and not so much the zombies – that make this novel work. I freaking love Sarah and her narration as from page one she’s not afraid to swear like a sailor or get her hands dirty (literally). Sarah (somewhat understandably) feels resentment for her husband’s apathetic position in life after he drops out of grad school and refuses to get a real job. That said, she’s also quick to snap at those that annoy her, she’s argumentative and wholly unrelenting. On the other side of the spectrum, David plays the passive aggressive game, refusing to confront his issues or deal with conflict. At least, that’s how the couple begins the book – because a few chapters deep, the truth starts coming out, baby. Finally forced to confront their issues and decide whether or not they really care for each other (as the couple finds themselves in actual life or death scenarios), it’s kind of sweet how they reconnect over bludgeoning walking, ravenous corpses. At least…I found it romantic.By the end of the novel, both characters grow so much and finally figure out what they want out of their wasted world. I personally loved the ride. Despite the fact that Married with Zombies walks a well-beaten road, I finished the book and, like any good zombie, was filled with the unholy desire for MORE. Err, more books, that is. Not brains. I immediately purchased book 2, and checked to make sure I have a copy of book 3. Mmmm. More. Braaaaaains.Show more\n",
      "\n",
      "\n",
      "Binge on this last night pretty funny and gross at the same time. Sad ending I had to leave the room to avoid the enviable :(. Good luck S&amp;D!\n",
      "\n",
      "\n",
      "I wanted to like this book a whole lot more than I did. I even originally rated it three stars, because I didn't exactly hate it. The disappointment wasn't crushing and I wasn't left wishing I hadn't bothered to read it. Some of it was even quite entertaining, for example, how could I resist a novel with such a catchy tag-line — \"the couple who slays together, stays together\"? Unfortunately, in my opinion a lot of the jokes were actually appalling bad and some of the scenes were undeniably cheesy, but not in a good-natured, \"roll your eyes and snort,\" way. There was a bit too much of a focus on what \"type\" of zombie was a threat (we are treated with copious descriptions of jogger zombies, stripper zombies, and retail staff zombies — the list goes on — and they were all a little too trite). If you're after a mindless way to pass the time then this may be all you need, but it jarred with me. Perhaps if I'd been on holiday, or trapped somewhere with nothing better to do I would have been in a better frame of mind to appreciate it more? I put aside World War Z by Max Brooks to read this first as I trusted it would be the more entertaining read, so my expectations might be the thing that caused me to feel it was disappointing...I've read some reviews that said the two main characters, who are attending marriage counseling, aren't even particularly likeable and their relationship isn't one that you end up caring about. Sure, the tension could certainly have been far greater if their relationship came across as anything serious (I think there are halfhearted attempts to be serious about their relationship but, really, how much time is there for deep and meaningful discussions while zombies are seeking a smorgasbord of brains?). Besides, I think that's missing the point of this story. It's a free-for-all — the husband and wife are in the firing line (from each other's barbed comments) as much as they're threatened by the far greater danger of death by degustation. There are throw-away, heartless oneliners about the zombies that have just been killed or are about to be, and virtually no pathos whatsoever about the fact that they used to be human. In fact, some of the brutal decapitations of the zombies are depicted as nothing more than a way for the main characters to vent their anger with each other or their situation. Then again, that's definitely a survival tactic of sorts. Or, therapeutic enough to possibly save a marriage, in the case of the characters of Sarah and David. Doesn't that seem ethically wrong to you, though? Just a little bit?Despite all that, there are also other attempts at seriousness (some horrible humans turn even nastier, some nice humans turn zombie) and I'll happily admit these moments held their own and had the most merit amidst the other banalities (so that's a definite kudos for Jesse Petersen, I guess). What I think is that there wasn't much of a story here, though it does try to get beyond the one-trick-pony appeal that I gladly bought it for, it's a comparatively short novel with only a few integral scenes that have been fleshed out with a majority of mediocre ideas it could do without.It's not wholly trashy, but unapologetically trashy enough that the rubbish almost makes the better scenes smell a bit off, too. If some of the jokes had been clever enough to carry the weaker parts of the story (or, if the jokes hadn't, as they frequently were, actually been the weakest part of the story) then I'd have been willing to give it up to two more stars because I love \"cheesy\" zombie as much as \"horror\" zombie (I've seen the Resident Evil films and love them, and they fall into the cheesy category for me. So does \"Brain Dead,\" directed by Peter Jackson long before he made Lord of the Rings). They don't however, so I won't (it makes me sad to be bereft of a zombie tale I could have potentially, for want of a better term, sunk my teeth into...)Show more\n",
      "\n",
      "\n",
      "היי חברים וחברות,המצב בארץ על הפנים ופשוט לא הצלחתי לקרוא שום דבר.. אבל ממש רציתי לקרוא כדי לברוח קצת מהמחשבות בראש... אז אמרתי לעצמי שצריך לחפש ספר הזוי, והיה לי מזל, הדבר המהמם הזה הגיע אלי.התחלתי והייתי בטוחה שלא אצליח לקרוא... אבל התת מודע שלי ידע מה אני צריכה 😋 הצלחתי לסיים.ספר די קצר, מוזר ומשעשע, הדבר המושלם לתקופה חחאז כמו שכבר ניחשתם משם של הספר יש פה זומבים 🧟‍♂️🧟‍♀️Sarah: Um, I saw you look at the tits on the zombie strippers we killed. Cut me some slack. The point is, the way we found out about the apocalypse is because we caught our marriage counselor eating the people who had the appointment before ours. We killed her, end of subject. Zanderson: You don’t seem to feel very badly about it. David: She was ripping us off. Our marriage did a lot better once she was dead.🧟‍♂️הספר מסופר מצידה של שרה, היא ובעלה דייוויד חווים קשיים בנשואים שלהם.. ולכן מבקרים יועצת זוגיות..הביקור שממנו מתחיל הספר, שונה משאר הטיפולים שהיו להם לפני, בגלל שהיועצת שלהם בדיוק נישנשה את הזוג שהגיעו לפני שרה ודייוויד... וזה לא בדיוק מה שהם באו \"לחוות\"... אז הם הורגים אותה 😚מפה לשם, שרה ודייוויד יוצאים למסע מלחמה עם ה'מתים חיים'.אהבתי פה את הדמויות, ממש... הם הרגישו אמיתיים, היו בהם מלא פגמים, וחשיבה לא אידיאלית, שלא תמיד פוגשים בספרות.. והוא היה מאוד ציני ומשעשע!!!אז מי שרוצה לברוח קצת מהמציאות.. ממליצה 🧟‍♀️עכשיו פירוט מדוייק יותר עם ציטוטים,- כי הם קורעים מצחוק 🤣 ודי ❌ספויילרים ❌הספר עצמו, מרגיש קצת כמו ספר של עזרה בזוגיות..🧟‍♂️But I never would have guessed that unlike therapy, unlike the self-help books that littered our apartment at the time, killing zombies would save my relationship.🧟‍♀️שרה ודייוויד הגיעו לפגישה כפי שסיפרתי לפני...🧟‍♀️“David!” I screamed, snapping out of my stunned disbelief as I watched my husband of five years fight for his life against what appeared to be a rabid marriage counselor.🧟‍♂️שלא הולכת כמתוכנן... ושרה קורעעעעת 🤣🧟‍♂️And Dave isn’t a tiny guy, either. He’s just about six feet and playing video games all day instead of working has given him a bit of a tummy. The fact that he had to work so hard against five foot two and maybe a hundred pounds was terrifying.🧟‍♀️אהבתי שהם שמרו על קור רוחם, לא בטוחה שהרבה אנשים שהיו חווים תקיפה של זומבי היו מצליחים לצחוק על העיניין 😚🧟‍♀️But apparently what she needed wasn’t a sandwich, as I’d often muttered as we left her office, but a manwich. Yeah, David hadn’t laughed at that joke when I told him later, either. But what can you do? In these situations you laugh or cry, right?🧟‍♂️אחרי שהם יוצאים... הם מנסים להבין מה... קורה...🧟‍♂️“We checked her references, right?” I asked, looking down at Dr. Kelly. Her head was half caved in on the floor in front of us. “Are you asking if I knew she was a cannibal psychopath, Sarah, but got lazy and just set up appointments with her for six Goddamn months anyway?”🧟‍♀️כמו שציינתי לפני... הם צריכים יעוץ נישואין🧟‍♀️“I’m not doing this right now. Put the car in drive,” he snapped. His tone pissed me off as much as the things I was saying to him did. I glared. “No. I think it’s about fucking time we take Dr. Kelly’s advice and talk this out.”“Dr. Kelly is dead! Her advice means shit now!” he shouted as he folded his arms. “Just because she tried to eat us doesn’t mean she was wrong,” I countered, even though I’d really been fighting her advice for months now… not that I was going to admit that to him or anything.🧟‍♂️מסיבות קטנות, אבל שחייבות עזרה...🧟‍♂️���So you killed him with what now?”“I tried that Dr. Phil book at first,” I sighed as I looked at the offending tome, lying next to Jack’s lifeless body, its pages caked with fluids and unidentifiable mush. “And I finished off with the toilet seat. Just so you know, you left it up again. That drives me crazy.”“Sorry,” he said, his voice flat and emotionless.🧟‍♀️אני ממש אהבתי את הדמויות פה חח🧟‍♀️“Amanda, I’m going to open the door, but if you try to eat us, I’ll fucking kill you.”“What?” her muffled voice elevated to a squeak on the other side of the door. “Sarah,” Dave sighed from behind me. I turned on him. “I killed her boyfriend. I should at least let her in and we can see if she’s… zombiefied or whatever.”🧟‍♂️והטיפים פה פצצה 😚🧟‍♂️Don’t discuss your relationship problems with friends. Your zombie problems are another story entirely.🧟‍♀️שרה ודייוויד אנשים טובים... שמנסים להסביר לאמנדה (שכנה) מה.. קרה.. והיא מגיבה מדהים 🤣🧟‍♂️“He wanted to bite me just like he wanted to bite you and I had no choice but to kill him. But I’m really sorry, Mandy.” She nodded before she glanced at me. Her face was pale, but she was pretty calm considering. “It’s okay, Sarah. I was going to break up with him anyway.”🧟‍♀️והם מתקרבים🧟‍♂️I should have known that having “end of the world” sex wouldn't solve our problems. Though, it was pretty great and I highly recommend it. It’s one of the big benefits of an apocalypse that no one tells you about. It just makes everything… better, because you know it might be the last time every time.🧟‍♀️אבל לא באמת... עדיין יש בינהם... קשיים.🧟‍♀️“Guys, as entertaining as this all is,” she said, “the elevator is about to open and my hands are full, so I’ll need you two to figure out if there are any zombies around. I don’t really want to get killed because you two are fighting over… um, whatever it is you’re fighting over.”🧟‍♂️אוח הטיפים פה מעולים 🤣🧟‍♀️Make requests, not demands. “Please” kill that zombie, honey, I’m out of bullets.🧟‍♂️🧟‍♀️Address one issue at a time. You can’t load gasoline, pick up food, AND kill fifteen zombies all at once.🧟‍♂️🧟‍♂️Share in your activities and interests. If you’re going to kill zombies anyway, why not do it together?🧟‍♀️ו.... ידעתי שאני אוהבת את החבר'ה האלו 😚🧟‍♀️Beer. Fuck that sounded good. Even though it was barely eight-thirty in the morning. But zombieism breeds alcoholism. It’s true. Look it up.🧟‍♂️הם לומדים לאט לאט מה לעשות... ומה לא🧟‍♀️“Um, are we taking up smoking?” I asked as I shoveled armfuls of beef jerky and chips into my bags. “I thought you were so against it, I mean the shit you gave me when I was trying to quit last year…” He arched a brow. “They might be worth something to trade later.” I stared at him. “David, that’s prison movies, not zombie movies.”🧟‍♂️התנועה בערים סמוכות לא מראה על ניצולים רבים.. 🧟‍♂️In the group who greeted us, there were two zombie Starbucks attendants (probably from different Starbucks if I know Seattle), a zombie nurse (real this time, not a stripper), and at least one zombie fireman in full gear, along with a bunch of plainclothes zombies gathered around our car just… staring at us.🧟‍♀️כל פרק מתחיל מטיפ 😚🧟‍♀️Build mutual friendships. Just be ready to end them when your friends start trying to eat you.🧟‍♂️הרג... לא בא בקלות לאנשים בלי... יכולת מיוחדת (סוציופתיה) אז כדי להמשיך לחיות... צריך לתרץ את העיניין🧟‍♀️“Well, we have. Let’s see, there was our debut with Dr. Kelly.”“Who overcharged us for advice I could have gotten on a fortune cookie,” Dave said. I giggled. “That’s as good a reason to kill her as the fact that she was going to eat us.”“The Wonderful Wilsons,” he offered.🧟‍♂️הספר הזה נוגע במלא נקודות... שרה ודייוויד במסע שלהם מגיעים גם לכת... 🧟‍♀️“We never should have saved that shithead. We could have let the zombies in the kitchen get him.” He grinned, but it was tense. “I admit the idea of watching him get eaten alive is pretty pleasant right now, but there was no way we could have known that at the time.”🧟‍♂️שלא משאירה אותם אדישים🧟‍♀️“You know, I almost feel sorry for the zombies,”I mused as we stared out at the parking lot that could mean our freedom. “They kill for food…for base needs. They’re like an animal. They have no choice.”Dave shrugged. “I don’t know if I’d go so far as pity. But you can’t blame them.”“But this guy…this William and his wife…they know what they’re doing…they know the consequences of their threats and their teachings…but they do it anyway. And you’re right, that’s scarier than the dark. It’s scarier than any zombie.”🧟‍♂️הספר נהיה ממש עצוב לקראת הסוף...🧟‍♀️“Sarah… you have to do it.” I drew back as I realized what she was asking me. “Oh God, Gina —” She coughed and a bit of black phlegm covered her bottom lip. “You and I never got along, but I believe with all my heart that you love Davy. You would do anything to protect him. And a brother shouldn’t have to kill his sister.”אבל כזוג.. הם נהיים טובים יותר🧟‍♀️“You know, Dr. Kelly once told us that we should find a common goal to work on together,”he said. “That it would bring us closer together and help us remember why we wanted to be together in the first place.”I nodded. “I think that was one of her better pieces of advice. We definitely did that over the last few days and look how strong we are now.”🧟‍♂️ממש🧟‍♀️But I have to say, the zombie plague saved my marriage. And if you follow the rules, have each other’s backs and stick together… it could save yours, too.🧟‍♂️Show more\n",
      "\n",
      "\n",
      "Originally posted here.Sometimes I read a book that makes me think \"Hey, really?  Maybe if people like this, they'll like the stories I have in MY head.\"Because Jesse Petersen's Married With Zombies feels kind of like it could have come from my own brain, so I'm a little pissed I didn't write it first.  No, it's not perfect, and it really could have used a bit more editing but it's FUN, DAMNIT.Sarah and Dave are on the verge of divorce and one day they walk in on their marriage counsellor eating the faces of the previous couple/patients.Where were you when the zombpocalypse struck?  I think if your answer is \"Well, I was trying to fix my marriage, and had to shove a stiletto through the eye of a paid professional just to save myself and my wife...\" your marriage just might make it.What I loved about the couple we follow through the first few days of a viral outbreak in and around Seattle was how much they reminded me of my husband and myself.No, we're not on the verge of divorce, but if you don't know us and you heard the way we talk to each other, there's a very good chance you might think fisticuffs were about to break out.Because we're snarky and snippy and we don't take a whole lot seriously.  Because Sarah and Dave are the same way, I found them entirely relatable [goddamnit, spellcheck, that IS TOO A WORD!]...dare I say they even seem like a couple husband and I would hang out with?  Yes, yes I dare.I was a little worried going into this that it was going to be a [gag] romance, but it WAS NOT!  It was a truly funny and engaging story of a couple that just doesn't know if they want to be together anymore, both trying to survive in a situation they were only partially prepared for.Am I going to tell all of you to rush out and buy this book?  No.  Because I think it's definitely not for everyone.  Here's a checklist to see if you might enjoy it.Do you: \t *Go out of your way to read/watch books/movies about the zombie apocalypse? \t *Are your children and family members well-versed in methods of zombie disposal SHOULD the zombpocalypse occur within our lifetimes? \t *Swear a lot? \t *Think maybe I'm pretty funny and would read a book by an author whose tone is incredibly similar to mine? \t *Enjoy pop-culture references  in your reading material? \t *Still find zombies kind of scary (there are a few thrilling moments in this book that had me genuinely spooked)?  If you can answer yes to three or more of those questions, then maybe you'd enjoy Married With Zombies.  If not, you should probably skip it because I'm telling you this is NOT THE BOOK FOR YOU.3/5, will definitely read more of the author's work, there are currently three more books in this series, and I'm probably going to start the second as soon as I finish writing this.\n",
      "\n",
      "Show more\n",
      "\n",
      "\n",
      "Plot: 2.5 StarsI was a little let down by this novel. The tagline on the back cover reads, \"A romantic comedy with... BRAAAINS!\" But this novel didn't come across as much of a romantic comedy for me because there wasn't much humor to it. There were a couple of interesting scenes that bordered on funny and a couple of one-liners, but I definitely wouldn't consider it a romantic comedy. It felt more like an Urban Fantasy or Horror novel about a zombie apocalypse. The only thing that set this novel apart from the majority of zombie novels and movies was that the main characters were a couple whose marriage was on the verge of divorce. While it was interesting to see how the couple dealt with the apocolypse, the zombies and the apocolypse did not seem all that unique. Pace: 3 StarsThe beginning of this novel was a quick and easy read. The action grabs you from the very first page, and doesn't let go. As the characters rush around and try not the get eaten, the pace of the novel keeps up without feeling rushed. But at about the halfway mark, things start to slow down just a bit. And a couple scenes start to feel a bit repetitive. There's only so many times the zombies can sneak up on a person before it gets a bit monotonous. Although my interested did pick back up when Sarah and David ran into some humans that were just as freaky and dangerous.Characters: 3.5 StarsSarah and David were an interesting couple. This was the first paranormal novel I've read that involved a married couple, let alone one that wasn't all that happy together. Their relationship's dynamic was probably the best part of the novel. Wondering whether or not they would survive the zombie apocalypse divorce-free kept me reading. There were also a number of strange people they met along the way. Considering they didn't stay in any one place for much time, the people they came across were pretty well-rounded for acquaintances. Amanda, their neighbor, was one of the few characters that stuck around for more than a chapter, and although she was a bit naive, she did help the couple out for a while.Cover: 3 StarsThis novel has a very interesting cover. My favorite part is the line of zombie silouettes in the background because it looks like they're chasing after the silouettes of the main characters. Or dancing. The broken heart around the title was a nice touch, considering the premise of the novel. The hot pink really popped against the gray background and was a very interesting choice considering the book is about a zombie apocalypse. My main gripe with this cover is that the spine of the novel is very bland. It's just the gray background with the title in black. Considering the spine is most likely the only part of the novel showing on the shelf, there's nothing there to really catch the eye. Including the hot pink from the cover would definitely grab a shoppers attention.Overall: 3 Stars Disclosure: I bought this novel for my own reading pleasure. Show more\n",
      "\n",
      "\n",
      "Jesse Petersen’s debut novel in this series is a worthy installment into the zombie apocalypse genre. Centering on Sarah and David, a young Seattle couple with marital issues and on the verge of a potential divorce/separation, they find themselves working together when the Emerald City becomes a city of the dead. The action starts in their therapist’s office and continues from there virtually non-stop. Written from Sarah’s perspective, we are introduced to a couple that are cynical, sarcastic and appear right at home in the midst of adversity, especially a zombie infestation. What I found to be quite refreshing is the character’s quick thinking on what could be used at a weapon. In the beginning few chapters, Sarah uses a toilet seat to dispatch a zombie. This was hysterical and suspenseful at the same time. As the story is told from Sarah’s perspective, she seems at times to be more concerned about the mess and zombie sludge staining her clothes then the fact that zombies are now walking around.Over the course of this novel, we see the formerly divorce/separation destined couple pull together and work as an efficient team. The tension is spot on as they try to leave their apartment then the city, encountering everything from zombie neighbors, infected building supers to a wacked out Jim Jones type cult. Ms. Petersen’s writing is invigorating and fresh. The world she creates is one where the traditional zombies roam, full of black gunk and searching for more uninfected, human victims. David and Sarah are natural born survivors who just like everyone else, make mistakes and learn from them. The characters that Ms. Petersen brings to life are not the super human all powerful zombie killing larger than life heroes out to save the world. They’re out to save their own asses and maybe those that they encounter as they try to get out of the city. Just avoid getting bit and everything will work out just fine.What I found to be appealing was the characters drive to leave the city not head to the mall or some other location in a weak attempt to imitate what other authors and film makers in this genre think will work. After all the three rules to follow in any disaster are:1)\tget out of the city2)\tGet out of the city3)\tGET OUT OF THE CITYOf course, Dave and Sarah’s primary motivation is to get to David’s sister to see if she’s still alive but just getting out of the city is one major plus for Ms. Petersen’s characters. The journey takes them through several of the cities and towns south of Seattle as they head for South West Washington and more rural settings. This first book is excellent and well worth adding to anyone’s collection of the genre. I’d like to predict a film being made from the series but considering the lack of imagination Hollywood has and the current trend of remaking mediocre television shows and movies from the 70s and 80s into big screen flops, it’s doubtful that this will happen.But one can always hope.Show more\n",
      "\n",
      "\n",
      "I really rate it 3.5 stars. The back page refers to it as a Romantic Comedy with Braaains! Well it definitely had its humorous moments as well as some pretty gory descriptions of zombie attacks.The leading couple is Sarah and David. They have been married for a few years but are having problems. They are on their way to the therapists office that they have been seeing for about six months when they realize how light the traffic is. They get to the office to find their Doctor munching on the previous clients.The action starts from the very beginning and doesn't let up often. Sarah and Dex head home to try to figure out what the hell is going on and what to do about it. At first, they bicker all the time. But soon they are growing closer and getting better at working as a team. Killing zombies for survival becomes the norm but these two do it with style.\"What?\" I asked, because Dave's smile had gotten wider. \"Why are you looking at me that way?\"He shrugged as he moved around toward the driver's seat. Before he got in, he grabbed the car zombie's ankle and yanked him off the roof with a violent tug. I heard him hit the ground below with a wet and somehow also crunchy smack.\"Nothing,\" Dave said with a shrug as he stood at the driver's side door. \"I was just thinking how much cooler you are than any other girl I ever knew.\"Another enjoyable feature of this book was that at the beginning of every chapter, you had 1 or 2 sentences that highlighted survival tips. Some of them were pretty hilarious. Support your partner in their interests. You never know when batting practice, kung fu movie moves, or even a poker night might come in handy during a zombie infestation.I like that this book plays on some typical movie cliches. The couple have lots to learn along the way but use self preservation and tips they have picked up from a flick or two.\"You're brave,\" I whispered.He shrugged, but beyond his discomfort and the way his cheeks turned red, I know what I said meant something to him.\"Well, somebody has to be the hero like in those books you read,\" he said with a dismissive shrug.I smiled as I followed him toward a doorway that led to the kitchen in the back of the casino floor. I don't think he heard me when I whispered, \"You are.\"This book is the first in a series and chronicles a very short time frame and hardly any distance covered. I found it to be a quick read. One of their encounters I had issues with and felt that angle has been played out too often in fiction. Luckily, they got through it quickly otherwise I may have lost interest all together. Though I liked reading how Sarah and Dave were working through their problems, I didn't have much attachment to them. I may pick up the next book in the series but it's not a rush for me though I do hear they get better as the series continues.  Show more\n",
      "\n",
      "\n",
      "I started reading this and I got to thinking about the Zombie apocalypse. You know, the one that is inevitable. Well, that is what this novel has me now believing. I’ve stashed up the canned goods. Planned out my team, thought about where to get supplies, and the best place to hide. This novel opened up a whole new genre for me and I know there is no going back. Sarah and David are in a rut…and somehow they are winging it through the Zombie apocalypse. How they woke up and drove all the way to their doctors without really noticing it I have no clue. But the novel made me notice how much we sweat the small stuff. This couple is on the verge of divorce, but all it took was the Zombie Apocalypse to bring them together. Which sounds ridiculous, but really how much time and energy do we put into fighting about putting the toilet seat cover down? Or playing video games? I mean those shooting skills could potentially come in handy when facing a horde of zombies. The book also made me think about what I would do. Would I really kill my friends and family if they were infected? Who would I be willing to sacrifice? Oh, its all so crazy yet makes you really think. What I really liked about this book the most is the mixture of humour and drama. I loved how they took the kinkiness of rope tying and pointed out how it could come in handy, or the fact that she appreciated how she married a boy scout because his skills have really come in handy.This novel was a pleasure to read even if it has me preparing for something that may never happen.Good:Sarah—Organizational nagging freak that you would really want on your team.David—Boy scout. Clearly has skills you need for your teamBad: I did feel like Sarah and David worked their problems out pretty quickly, however, I guess it could the whole ‘don’t sweat the small stuff’ especially when your best friend was just bit by a Zombie.Overall (Writing style, story line, and general):Overall this book was a pleasure to read. At first I was a little weary off the whole Zombie genre. The only other zombie books I’ve read are Alice in Zombieland (which have very different Zombies) and Poison Princess (which barely have zombies), but this book has me diving right in to all sort of zombie novels. It was easy to follow, and I never had to re-read anything. In fact the writing was so well done that some of the descriptions of the undead almost had me gagging. And if you say that’s bad writing then you really have no clue what zombies are all about. I laughed, I cried a bit, and I rooted for them when they did something super cool. You encounter everything that you probably would in the Zombie apocalypse. From killing your BFF, to cults, to wondering if you family will make it through. Jesse Petersen makes you think about what choices you would make while enjoying a funny and meaningful story in his novel Married with Zombies. Join the Zombie team and pick this book up.Show more\n",
      "\n",
      "\n",
      "Solidly written zombie novels make me happy – I mean really happy. Like, “I just ate a heap-load of chocolate” happy. Unfortunately for me, my preference for the more lighthearted and quirky variety, like ‘Warm Bodies’ over the ‘War Z’ dystopias make this sort of happiness rare to come by. But I was not to be deterred. Once I’d finished up ‘Warm Bodies’ last month I diligently began hunting for my next zombie-fix.Although my search did take me to a few odd titles, it eventually dropped me at the feet of ‘Married with Zombies’ by Jesse Petersen and these words caught my attention about halfway through the blurb:  Once upon a time they met and fell in love. But now they're on the verge of divorce and going to couples' counseling. On a routine trip to their counselor, they notice a few odd things - the lack of cars on the highway, the missing security guard, and the fact that their counselor, Dr. Kelly, is ripping out her previous client's throat.For me, those words and beach-read inspired cover were all I needed to download and get started. With that description and a title that harkens back to the days of Peg and Al Bundy, I was all but guaranteed that it would be quirky – but would it be good?Well, let’s put it this way. ‘Warm Bodies’ is the Lindt dark chocolate truffle of zombie fixes. It’s heartwarming and serious and doesn’t leave you holding the bag, needing more. ‘Married with Zombies’ is great, but it’s more like a Reese’s mini – shorter, louder, takes itself a whole lot less seriously and really? Who just has one peanut butter cup mini? Not me, that’s for sure and it makes the whole idea that this is a new series to sink my teeth into that much more enjoyable.Author Jesse Petersen has a great sense of humor through the whole thing and I’ve got to say I laughed out loud more than a few times. The characters were good, and given the relationship the two mains have at the start of the journey the buildup is excellent. If you’ve ever lived with someone for more than a few years you’ll probably end up appreciating this one for the no-nonsense, honest love these Sarah and David have for one another. Bottom line: If you like your zombie novels terrifying and filled with pointless teeth-gnashing, this one probably isn’t for you at all. If you’re more interested in seeing what happens to the people on the ground, how relationships can get stronger even in the midst of near-certain doom, you’re on the right track. As for me, well, I certainly love Reese’s… and already plan on picking up ‘Flip this Zombie’ soon.Like what I've got to say? Than pay me a visit at To the Point! for book reviews, recommendation and the occasional free title give-away!Show more\n",
      "\n",
      "\n",
      "DNF — Needs more gore, less divergence into marital problems. The dialogue is full of 90s self-help catchphrases so cheesy that I'm surprised my book didn't grow a rind of mold. This might have been better if it hadn't taken itself so seriously.The sequencing details of the plot seems very off, and this grated on me. At one point, Sarah bitches at Dave for not gasing up the car the day before, but the day before was the opening scene of the novel, with the morning visit to the therapist and the dawning of the zombie awareness and, even assuming the author had intended to mean two-days before instead, Sarah had herself been driving the car in the opening scene. She didn't notice Dave hadn't filled up the tank then?† That runs counter to everything we know about that character. And the transition time for zombifying is variable solely by the importance to the scene, rendering completely irreverent the stated 10-15 minute range.The killscene for me fell on p. 143: \"You ran out on Lisa for a lot less!\"Dave scowled and his tone was a warning when he said, \"Sarah—\"But I wasn't done yet. Not by a long shot. \"Also, it's a huge place, doesn't the sign say over a hundred rooms? That means one hundred areas we can't check. Shall I go on?\"Dave shook his head. \"I know all that. But Sarah, finding that girl in Seattle made me think about the other people who might be out there like her. And not all of them are going to be too scared to run for it. If we had just a couple more people helping us to shoot and to drive, we might have a better chance at survival.\"I shook my head. \"You're right, there may be more people there, but—\"\"Fuck, Sarah!\" he said. \"Do you have to argue about every fucking thing?\"\"I don't—\"\"Yes, you do.\" He faced me. \"For six months you've been telling me every single thing and every way I've fucked up. And I've let you.\"I tossed the book aside at that point. I'm going to track down and read Feed instead.† Logically, the gas issue would make sense if Sarah had been driving one car on Day One of the zombies and Dave had been driving a second car with low gas on Day Two, but I don't remember them having a second car. And with Dave unemployed and all the money troubles they'd complained about having, owning just one car seems reasonable. IDK. I'm not getting this book back out of the library to fact-check this.Show more\n",
      "\n",
      "\n",
      "Rated 4.5/5Summary: Sarah and David have hit a rough patch in their relationship. After five years of marriage, they are both unhappy and fight constantly with each other. In an effort to resolve their issues, they have been going to counseling once a week for the past six months.On their final visit with Dr. Kelly, they walk into a scene right out of a horror movie. Dr. Kelly is literally eating two of her patients. As Sarah and David stare in shock and disbelief, Dr Kelly turns her attention on them. Before this counseling session is over, Dr Kelly is dead.... for a second time.Sarah and David soon learn that all of Seattle is under siege by the undead. Some sort of experiment at the University of Washington went horribly wrong and resulted in Zombies taking over the city. The Zombies are multiplying at an astounding rate, and no where in the city is safe.When the couple is finally able to leave the city, they decide head toward a small town in southern Washington to find out if David's sister has survived. Along the way, they battle zombies, they escape the clutches of a cult, and they become thieves. But, by working together against a common enemy, they also begin to repair their marriage.Review: As a general rule, zombie stories have never really appealed to me. No matter how talented the author, zombies are still going to be decaying human bodies... YUCK. I picked up this book because the cover made it look like it might be satire instead of a \"serious\" zombie story. It was not satire. It was a real zombie story with truly disgusting zombies. And believe it or not, I liked it. A lot.So what made this one different? Humor. Sarah and David are hilarious. It isn't intentional on their part. They just can't help having some ridiculous moments in the midst of the surreal events unfolding around them. For instance, Sarah winds up killing a zombie with a toilet seat after having a meltdown over David leaving the seat up AGAIN. Sure, her life was in danger at the time, but she was that darn toilet seat that made her fly off the handle.I doubt that I'll ever be a zombie fan, but I'm definitely a fan of this author. She made me like something I never thought I'd like. And for that, she deserves this high rating.Show more\n",
      "\n",
      "\n",
      " This book is hilarious! I truly believe it is the funniest book I have read this year. I would never have thought anyone could combine Romantic Comedy and Zombie Apocalypse and get a great book from the combination, Petersen did this and she did an amazing job of it. The book is a quick and easy read. I read it while traveling through two different airports and 4 different flights while on a trip to Vegas. The chapters are rather short, so this made for good stopping points during my travels. Another awesome spine on this book. The publisher, author or person who make cosmetic appearence decisions, put the number of which book this is in the series on the spine (I wish there were more of this). \tThe book starts out with Sarah and David driving to marriage counseling. They are running through reasons as to why they are not a happily married couple any longer. All seems fine in the world, with the exception of their marriage. This quickly changes when they reach the appointment. They find the counselor nibbling on the perfect couple who has the session before them. The book starts off quickly and moves quickly throughout the book. There is never a point where this book does not move along from one crazy experience with zombies (and crazy living people) to the next.\tSarah and David decide rather quickly that they wish to stay together, alive preferably. They run into numerous problems with the living and the undead during their drive to make sure David’s sister has survived this zombie outbreak. While traveling they discover the joys of looting, teaching firearm handling, breaking and entering and cults who wish to begin repopulating the nation. The more trouble they find the more they seem to notice how the problems they were hoping marriage counseling would fix don’t really exist. Each chapter even starts off with a tip on how to stay happily married. \tBook number 2 in the series will be out in stores on January 4, 2011. I know I will certainly be out and about looking to acquire my copy of Flip this Zombie. This is a cute humorous series.  Show more\n",
      "\n",
      "\n",
      "To me this book was just OK. I enjoyed in but I'm not crazy about it.I like the relationship between the two characters. I looked forward to them bonding over zombies and surviving but I felt bored near the end. I need more at stakes. For me the level of writing was for grade 5 to grade 10 to be honest but inappropriate because of the violence and swearing.When you read this book remember that it's not a highly developed plot. It is suppose to be a quick entertaining read. I found the book funny though.The part that bothered me was:Chapter 1 to 5I like it so far but The womans a bit dumb.When she thinks about cops then thinks what if they think it wasn't self defense. That was stupid. I meam obviously the cops would see how they looked and know it wasn't.Then when she says about what if the cops think we killed the Wilkinson. I'm like wtf...honestly shes stupid. The cops would see blood on her mouth and her hair, nails, clothes and know that Ms. Kelly killed them and ate them. The remains would be in her belly.ThenI don't like when books put down religion.I am Christian and I would never write in away that would be putting down any religion. Honestly chapter 17 was written offensively where she could have written it making the Christian folks seem extremely crazy with really delusional views. They didn't seem that fanatic for them to be so rude to people that were trying to help them. I do understand the prisoner part would be maddening but that's why I think she should have written them more as crazy fanatic Christians.Show more\n",
      "\n",
      "\n",
      "its goodThis entire review has been hidden because of spoilers.Show full review\n",
      "\n",
      "\n"
     ]
    }
   ],
   "source": [
    "sections = soup.find_all('section', class_='ReviewText')\n",
    "for section in sections:\n",
    "    text = re.sub('<[^>]+?>', '', str(section))\n",
    "    print(text)\n",
    "    print(\"\\n\")"
   ]
  },
  {
   "cell_type": "code",
   "execution_count": 311,
   "metadata": {},
   "outputs": [
    {
     "name": "stdout",
     "output_type": "stream",
     "text": [
      "Rating 3 out of 5\n",
      "Rating 4 out of 5\n",
      "Rating 3 out of 5\n",
      "Rating 5 out of 5\n",
      "Rating 3 out of 5\n",
      "Rating 5 out of 5\n",
      "Rating 3 out of 5\n",
      "Rating 4 out of 5\n",
      "Rating 1 out of 5\n",
      "Rating 4 out of 5\n",
      "Rating 3 out of 5\n",
      "Rating 1 out of 5\n",
      "Rating 4 out of 5\n",
      "Rating 4 out of 5\n",
      "Rating 4 out of 5\n",
      "Rating 3 out of 5\n",
      "Rating 4 out of 5\n",
      "Rating 4 out of 5\n",
      "Rating 4 out of 5\n",
      "Rating 4 out of 5\n",
      "Rating 4 out of 5\n",
      "Rating 1 out of 5\n",
      "Rating 4 out of 5\n",
      "Rating 4 out of 5\n",
      "Rating 4 out of 5\n",
      "Rating 4 out of 5\n",
      "Rating 3 out of 5\n",
      "Rating 5 out of 5\n",
      "Rating 4 out of 5\n",
      "Rating 5 out of 5\n",
      "Rating 4 out of 5\n",
      "Rating 5 out of 5\n",
      "Rating 3 out of 5\n",
      "Rating 3 out of 5\n",
      "Rating 5 out of 5\n",
      "Rating 5 out of 5\n",
      "Rating 5 out of 5\n",
      "Rating 3 out of 5\n",
      "Rating 4 out of 5\n",
      "Rating 2 out of 5\n",
      "Rating 3 out of 5\n",
      "Rating 3 out of 5\n",
      "Rating 4 out of 5\n",
      "Rating 4 out of 5\n",
      "Rating 3 out of 5\n",
      "Rating 5 out of 5\n",
      "Rating 3 out of 5\n",
      "Rating 5 out of 5\n",
      "Rating 5 out of 5\n",
      "Rating 4 out of 5\n",
      "Rating 4 out of 5\n",
      "Rating 1 out of 5\n",
      "Rating 3 out of 5\n",
      "Rating 5 out of 5\n",
      "Rating 4 out of 5\n",
      "Rating 4 out of 5\n"
     ]
    },
    {
     "ename": "AttributeError",
     "evalue": "'NoneType' object has no attribute 'get'",
     "output_type": "error",
     "traceback": [
      "\u001b[1;31m---------------------------------------------------------------------------\u001b[0m",
      "\u001b[1;31mAttributeError\u001b[0m                            Traceback (most recent call last)",
      "Cell \u001b[1;32mIn[311], line 5\u001b[0m\n\u001b[0;32m      3\u001b[0m \u001b[38;5;28;01mfor\u001b[39;00m rating_span \u001b[38;5;129;01min\u001b[39;00m rating_spans:\n\u001b[0;32m      4\u001b[0m     rating_spans \u001b[38;5;241m=\u001b[39m rating_span\u001b[38;5;241m.\u001b[39mfind(\u001b[38;5;124m'\u001b[39m\u001b[38;5;124mspan\u001b[39m\u001b[38;5;124m'\u001b[39m, class_\u001b[38;5;241m=\u001b[39m\u001b[38;5;124m'\u001b[39m\u001b[38;5;124mRatingStars RatingStars__small\u001b[39m\u001b[38;5;124m'\u001b[39m)\n\u001b[1;32m----> 5\u001b[0m     spans \u001b[38;5;241m=\u001b[39m \u001b[43mrating_spans\u001b[49m\u001b[38;5;241;43m.\u001b[39;49m\u001b[43mget\u001b[49m(\u001b[38;5;124m'\u001b[39m\u001b[38;5;124maria-label\u001b[39m\u001b[38;5;124m'\u001b[39m)\n\u001b[0;32m      6\u001b[0m     \u001b[38;5;28;01mif\u001b[39;00m rating_spans:\n\u001b[0;32m      7\u001b[0m         \u001b[38;5;28mprint\u001b[39m(spans)\n",
      "\u001b[1;31mAttributeError\u001b[0m: 'NoneType' object has no attribute 'get'"
     ]
    }
   ],
   "source": [
    "rating_spans = soup.find_all('div', class_='ShelfStatus')\n",
    "\n",
    "for rating_span in rating_spans:\n",
    "    rating_spans = rating_span.find('span', class_='RatingStars RatingStars__small')\n",
    "    spans = rating_spans.get('aria-label')\n",
    "    if rating_spans:\n",
    "        print(spans)\n"
   ]
  },
  {
   "cell_type": "code",
   "execution_count": 312,
   "metadata": {},
   "outputs": [
    {
     "name": "stdout",
     "output_type": "stream",
     "text": [
      "karen\n",
      "3,997\n",
      "171k\n",
      "\n",
      "Misty Marie Harms\n",
      "559\n",
      "584\n",
      "\n",
      "Kelly (and the Book Boar)\n",
      "2,599\n",
      "8,865\n",
      "\n",
      "Buggy\n",
      "524\n",
      "688\n",
      "\n",
      "Eh?Eh!\n",
      "385\n",
      "4\n",
      "\n",
      "Lady Gabriella of Awesomeness (SLOW)\n",
      "519\n",
      "818\n",
      "\n",
      "Mir\n",
      "4,896\n",
      "5,201\n",
      "\n",
      "Meredith Holley\n",
      "Author\n",
      "Author\n",
      "\n",
      "Veronica Morfi\n",
      "Author\n",
      "Author\n",
      "\n",
      "Carole (Carole's Random Life)\n",
      "1,897\n",
      "550\n",
      "\n",
      "jenny✨\n",
      "578\n",
      "895\n",
      "\n",
      "Literary Ames\n",
      "834\n",
      "400\n",
      "\n",
      "Bonnie\n",
      "1,388\n",
      "1,096\n",
      "\n",
      "Cat Russell  (Addicted2Heroines)\n",
      "349\n",
      "210\n",
      "\n",
      "Ian\n",
      "435\n",
      "73\n",
      "\n",
      "Jenny\n",
      "237\n",
      "345\n",
      "\n",
      "Elizabeth\n",
      "665\n",
      "57\n",
      "\n",
      "Catherine\n",
      "117\n",
      "16\n",
      "\n",
      "Lauren\n",
      "315\n",
      "27\n",
      "\n",
      "Carolyn\n",
      "468\n",
      "1,141\n",
      "\n",
      "Carly - Resident Supergirl\n",
      "192\n",
      "11\n",
      "\n",
      "Amanda\n",
      "804\n",
      "166\n",
      "\n",
      "Cyndi\n",
      "2,385\n",
      "102\n",
      "\n",
      "Leo\n",
      "4,560\n",
      "486\n",
      "\n",
      "Teresa\n",
      "956\n",
      "Seguidores não encontrados\n",
      "\n",
      "Greta is Erikasbuddy\n",
      "851\n",
      "27\n",
      "\n",
      "Megan\n",
      "393\n",
      "7\n",
      "\n",
      "Mehsi\n",
      "13.1k\n",
      "403\n",
      "\n",
      "☣Lynn☣\n",
      "757\n",
      "221\n",
      "\n",
      "Dimitris Zisis\n",
      "97\n",
      "6\n",
      "\n",
      "Misti\n",
      "323\n",
      "Seguidores não encontrados\n",
      "\n",
      "Dark Faerie Tales\n",
      "2,274\n",
      "560\n",
      "\n",
      "Kristin\n",
      "119\n",
      "2\n",
      "\n",
      "Mandi\n",
      "2,313\n",
      "726\n",
      "\n",
      "Kayla\n",
      "160\n",
      "Seguidores não encontrados\n",
      "\n",
      "Yolanda Sfetsos\n",
      "Author\n",
      "Author\n",
      "\n",
      "Diane\n",
      "1,140\n",
      "37\n",
      "\n",
      "Sarah Laudenbach\n",
      "120\n",
      "27\n",
      "\n",
      "Rachel-RN\n",
      "2,229\n",
      "26\n",
      "\n",
      "Darcy\n",
      "13.2k\n",
      "512\n",
      "\n",
      "Erin Henderson\n",
      "365\n",
      "6\n",
      "\n",
      "☼♎ Carmen the Bootyshaker Temptress ☼♎\n",
      "1,629\n",
      "157\n",
      "\n",
      "Shannon\n",
      "1,216\n",
      "2,347\n",
      "\n",
      "Marc\n",
      "1,281\n",
      "27\n",
      "\n",
      "Michael\n",
      "1,259\n",
      "130\n",
      "\n",
      "Alins\n",
      "62\n",
      "26\n",
      "\n",
      "Kai Charles(Fiction State Of Mind)\n",
      "2,849\n",
      "12\n",
      "\n",
      "Fangs for the Fantasy\n",
      "1,449\n",
      "191\n",
      "\n",
      "Bèbè ✦ RANT  ✦\n",
      "405\n",
      "135\n",
      "\n",
      "Dec\n",
      "31\n",
      "Seguidores não encontrados\n",
      "\n",
      "Shelley\n",
      "5,355\n",
      "482\n",
      "\n",
      "Linda\n",
      "191\n",
      "1\n",
      "\n",
      "Trisha\n",
      "5,076\n",
      "186\n",
      "\n",
      "Paula  Phillips\n",
      "5,167\n",
      "324\n",
      "\n",
      "Jenne\n",
      "699\n",
      "88\n",
      "\n",
      "Angie\n",
      "890\n",
      "2\n",
      "\n",
      "Netanella\n",
      "4,409\n",
      "12\n",
      "\n",
      "Fairyhedgehog\n",
      "11\n",
      "1\n",
      "\n",
      "Cathy\n",
      "1,752\n",
      "268\n",
      "\n",
      "Cee\n",
      "2,732\n",
      "138\n",
      "\n",
      "Shéa MacLeod\n",
      "Author\n",
      "Author\n",
      "\n",
      "Juanita\n",
      "19\n",
      "1\n",
      "\n",
      "Valerie\n",
      "25\n",
      "Seguidores não encontrados\n",
      "\n",
      "Lelouch\n",
      "406\n",
      "28\n",
      "\n",
      "Joshua Van Dereck\n",
      "530\n",
      "15\n",
      "\n",
      "Mayda\n",
      "3,306\n",
      "57\n",
      "\n",
      "Ian Anderson\n",
      "95\n",
      "19\n",
      "\n",
      "Shan ~A~\n",
      "2,600\n",
      "60\n",
      "\n",
      "Jammin Jenny\n",
      "1,462\n",
      "215\n",
      "\n",
      "Debrac2014\n",
      "2,088\n",
      "18\n",
      "\n",
      "Dawn\n",
      "139\n",
      "7\n",
      "\n",
      "Dani Reumont\n",
      "229\n",
      "1\n",
      "\n",
      "Julie\n",
      "524\n",
      "3\n",
      "\n",
      "Aundrea\n",
      "352\n",
      "21\n",
      "\n",
      "Tina\n",
      "444\n",
      "486\n",
      "\n",
      "TheBookSmugglers\n",
      "669\n",
      "1,899\n",
      "\n",
      "Latoya\n",
      "133\n",
      "24\n",
      "\n",
      "Emma\n",
      "Author\n",
      "Author\n",
      "\n",
      "Kasandra Setrakova\n",
      "703\n",
      "14\n",
      "\n",
      "sj\n",
      "404\n",
      "81\n",
      "\n",
      "Sara\n",
      "200\n",
      "32\n",
      "\n",
      "J.R.\n",
      "Author\n",
      "Author\n",
      "\n",
      "Emmy\n",
      "150\n",
      "Seguidores não encontrados\n",
      "\n",
      "Jessica Buwalda\n",
      "331\n",
      "100\n",
      "\n",
      "Jessica\n",
      "67\n",
      "1\n",
      "\n",
      "M—\n",
      "652\n",
      "110\n",
      "\n",
      "Holly\n",
      "1,247\n",
      "26\n",
      "\n",
      "Vanessa theJeepDiva\n",
      "1,258\n",
      "120\n",
      "\n",
      "C.R. Sedore\n",
      "Author\n",
      "Author\n",
      "\n",
      "Makayla\n",
      "1\n",
      "1\n",
      "\n"
     ]
    }
   ],
   "source": [
    "profile_info_list = soup.find_all('section', class_='ReviewerProfile__info')\n",
    "\n",
    "for profile_info in profile_info_list:\n",
    "    name_div = profile_info.find('div', class_='ReviewerProfile__name')\n",
    "    if name_div:\n",
    "        name = name_div.text.strip()\n",
    "    else:\n",
    "        name = \"Nome não encontrado\"\n",
    "\n",
    "    reviews_span = profile_info.find('div', class_='ReviewerProfile__meta').find('span').text\n",
    "    num_reviews = reviews_span.split()[0]\n",
    "\n",
    "    meta_div = profile_info.find('div', class_='ReviewerProfile__meta')\n",
    "    follower_spans = meta_div.find_all('span')\n",
    "    if len(follower_spans) >= 2:\n",
    "        followers = follower_spans[1].text.split()[0]\n",
    "    else:\n",
    "        followers = \"Seguidores não encontrados\"\n",
    "\n",
    "    print(name)\n",
    "    print(num_reviews)\n",
    "    print(followers)\n",
    "    print()\n"
   ]
  }
 ],
 "metadata": {
  "kernelspec": {
   "display_name": "Python 3",
   "language": "python",
   "name": "python3"
  },
  "language_info": {
   "codemirror_mode": {
    "name": "ipython",
    "version": 3
   },
   "file_extension": ".py",
   "mimetype": "text/x-python",
   "name": "python",
   "nbconvert_exporter": "python",
   "pygments_lexer": "ipython3",
   "version": "3.11.4"
  }
 },
 "nbformat": 4,
 "nbformat_minor": 2
}
